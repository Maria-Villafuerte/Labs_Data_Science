{
 "cells": [
  {
   "cell_type": "markdown",
   "id": "4b1a83a9",
   "metadata": {},
   "source": [
    "# Laboratorio 7. Autoencoder, Isolation Forest y LOF"
   ]
  },
  {
   "cell_type": "code",
   "execution_count": 4,
   "id": "5b067472",
   "metadata": {},
   "outputs": [],
   "source": [
    "from sklearn.datasets import fetch_covtype\n",
    "import pandas as pd\n",
    "from sklearn.preprocessing import StandardScaler\n",
    "import numpy as np"
   ]
  },
  {
   "cell_type": "markdown",
   "id": "c07166ec",
   "metadata": {},
   "source": [
    "## Carga de los datos"
   ]
  },
  {
   "cell_type": "code",
   "execution_count": 1,
   "id": "b21d270d",
   "metadata": {},
   "outputs": [
    {
     "name": "stdout",
     "output_type": "stream",
     "text": [
      "(581012, 54)\n",
      "   Elevation  Aspect  Slope  Horizontal_Distance_To_Hydrology  \\\n",
      "0     2596.0    51.0    3.0                             258.0   \n",
      "1     2590.0    56.0    2.0                             212.0   \n",
      "2     2804.0   139.0    9.0                             268.0   \n",
      "3     2785.0   155.0   18.0                             242.0   \n",
      "4     2595.0    45.0    2.0                             153.0   \n",
      "\n",
      "   Vertical_Distance_To_Hydrology  Horizontal_Distance_To_Roadways  \\\n",
      "0                             0.0                            510.0   \n",
      "1                            -6.0                            390.0   \n",
      "2                            65.0                           3180.0   \n",
      "3                           118.0                           3090.0   \n",
      "4                            -1.0                            391.0   \n",
      "\n",
      "   Hillshade_9am  Hillshade_Noon  Hillshade_3pm  \\\n",
      "0          221.0           232.0          148.0   \n",
      "1          220.0           235.0          151.0   \n",
      "2          234.0           238.0          135.0   \n",
      "3          238.0           238.0          122.0   \n",
      "4          220.0           234.0          150.0   \n",
      "\n",
      "   Horizontal_Distance_To_Fire_Points  ...  Soil_Type_30  Soil_Type_31  \\\n",
      "0                              6279.0  ...           0.0           0.0   \n",
      "1                              6225.0  ...           0.0           0.0   \n",
      "2                              6121.0  ...           0.0           0.0   \n",
      "3                              6211.0  ...           0.0           0.0   \n",
      "4                              6172.0  ...           0.0           0.0   \n",
      "\n",
      "   Soil_Type_32  Soil_Type_33  Soil_Type_34  Soil_Type_35  Soil_Type_36  \\\n",
      "0           0.0           0.0           0.0           0.0           0.0   \n",
      "1           0.0           0.0           0.0           0.0           0.0   \n",
      "2           0.0           0.0           0.0           0.0           0.0   \n",
      "3           0.0           0.0           0.0           0.0           0.0   \n",
      "4           0.0           0.0           0.0           0.0           0.0   \n",
      "\n",
      "   Soil_Type_37  Soil_Type_38  Soil_Type_39  \n",
      "0           0.0           0.0           0.0  \n",
      "1           0.0           0.0           0.0  \n",
      "2           0.0           0.0           0.0  \n",
      "3           0.0           0.0           0.0  \n",
      "4           0.0           0.0           0.0  \n",
      "\n",
      "[5 rows x 54 columns]\n",
      "Cover_Type\n",
      "2    283301\n",
      "1    211840\n",
      "3     35754\n",
      "7     20510\n",
      "6     17367\n",
      "5      9493\n",
      "4      2747\n",
      "Name: count, dtype: int64\n"
     ]
    }
   ],
   "source": [
    "# Cargar dataset\n",
    "covtype = fetch_covtype(as_frame=True)  # lo pedimos como DataFrame\n",
    "X = covtype.data\n",
    "y = covtype.target  # Cover_Type original (1–7)\n",
    "\n",
    "# Revisar estructura\n",
    "print(X.shape)\n",
    "print(X.head())\n",
    "print(y.value_counts())"
   ]
  },
  {
   "cell_type": "markdown",
   "id": "9e6503f4",
   "metadata": {},
   "source": [
    "## Escalar datos"
   ]
  },
  {
   "cell_type": "code",
   "execution_count": 2,
   "id": "b4c2c14f",
   "metadata": {},
   "outputs": [],
   "source": [
    "# Separar numéricas y binarias\n",
    "X_num = X.iloc[:, :10]     # primeras 10 columnas numéricas\n",
    "X_bin = X.iloc[:, 10:]     # resto: binarias (0/1)\n",
    "\n",
    "# Escalar numéricas\n",
    "scaler = StandardScaler()\n",
    "X_num_scaled = pd.DataFrame(scaler.fit_transform(X_num), columns=X_num.columns)\n",
    "\n",
    "# Unir de nuevo\n",
    "X_scaled = pd.concat([X_num_scaled, X_bin], axis=1)"
   ]
  },
  {
   "cell_type": "markdown",
   "id": "fe905712",
   "metadata": {},
   "source": [
    "## Etiquetar"
   ]
  },
  {
   "cell_type": "code",
   "execution_count": 5,
   "id": "60b8ebc5",
   "metadata": {},
   "outputs": [
    {
     "data": {
      "text/plain": [
       "0    297711\n",
       "1    283301\n",
       "Name: count, dtype: int64"
      ]
     },
     "execution_count": 5,
     "metadata": {},
     "output_type": "execute_result"
    }
   ],
   "source": [
    "y_binary = np.where(y == 2, 1, 0)  # 1 = normal, 0 = anómalo\n",
    "\n",
    "# Revisar proporción\n",
    "pd.Series(y_binary).value_counts()"
   ]
  }
 ],
 "metadata": {
  "kernelspec": {
   "display_name": "Python 3",
   "language": "python",
   "name": "python3"
  },
  "language_info": {
   "codemirror_mode": {
    "name": "ipython",
    "version": 3
   },
   "file_extension": ".py",
   "mimetype": "text/x-python",
   "name": "python",
   "nbconvert_exporter": "python",
   "pygments_lexer": "ipython3",
   "version": "3.12.5"
  }
 },
 "nbformat": 4,
 "nbformat_minor": 5
}
