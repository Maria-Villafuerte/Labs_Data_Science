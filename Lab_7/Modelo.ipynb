{
  "nbformat": 4,
  "nbformat_minor": 0,
  "metadata": {
    "colab": {
      "provenance": [],
      "gpuType": "T4"
    },
    "kernelspec": {
      "name": "python3",
      "display_name": "Python 3"
    },
    "language_info": {
      "name": "python"
    },
    "accelerator": "GPU"
  },
  "cells": [
    {
      "cell_type": "markdown",
      "source": [
        "# Laboratorio 7. Predicción de datos con AutoGluon"
      ],
      "metadata": {
        "id": "M3jrYDZksVDR"
      }
    },
    {
      "cell_type": "markdown",
      "source": [
        "## Entrenamiento del modelo"
      ],
      "metadata": {
        "id": "0oyt60eYgNsE"
      }
    },
    {
      "cell_type": "code",
      "source": [
        "# Es necesario instalar autogluon\n",
        "# En este caso solamente instalamos lo que vamos a utilizar\n",
        "#!pip install autogluon.tabular"
      ],
      "metadata": {
        "id": "NvXcImO3dqcx"
      },
      "execution_count": 10,
      "outputs": []
    },
    {
      "cell_type": "code",
      "source": [
        "import pandas as pd\n",
        "import seaborn as sns\n",
        "import matplotlib.pyplot as plt\n",
        "from sklearn.model_selection import train_test_split\n",
        "from sklearn.linear_model import LogisticRegression\n",
        "from sklearn.metrics import accuracy_score\n",
        "from sklearn.metrics import confusion_matrix, classification_report, roc_curve, auc\n",
        "from autogluon.tabular import TabularPredictor"
      ],
      "metadata": {
        "id": "C-h4Jl8xdmrl"
      },
      "execution_count": 11,
      "outputs": []
    },
    {
      "cell_type": "markdown",
      "source": [
        "### Limpieza de datos"
      ],
      "metadata": {
        "id": "Xhwwfpnzljq0"
      }
    },
    {
      "cell_type": "markdown",
      "source": [
        "Si bien el análisis exploratorio mostró valores atípicos (ceros donde no debería haber) y un desbalance entre clases, en clase se decidió que no se modificaría el set de datos."
      ],
      "metadata": {
        "id": "9LopYS_anGx1"
      }
    },
    {
      "cell_type": "markdown",
      "source": [
        "### División de los datos"
      ],
      "metadata": {
        "id": "jFYE7tsKeoDN"
      }
    },
    {
      "cell_type": "code",
      "source": [
        "df = pd.read_csv(\"/content/diabetes.csv\") # Ruta para google colab\n",
        "\n",
        "X = df.drop('Outcome', axis=1)\n",
        "y = df['Outcome']\n",
        "\n",
        "# División de datos\n",
        "X_train, X_test, y_train, y_test = train_test_split(X, y, test_size=0.2, random_state=42, stratify=y)\n",
        "\n",
        "# Preparar datos para AutoGluon\n",
        "train_data = pd.concat([X_train, y_train], axis=1)\n",
        "test_data = pd.concat([X_test, y_test], axis=1)"
      ],
      "metadata": {
        "id": "FGppUuR8erWo"
      },
      "execution_count": 12,
      "outputs": []
    },
    {
      "cell_type": "markdown",
      "source": [
        "### Entrenamiento con AutoGluon"
      ],
      "metadata": {
        "id": "T0yvesuMeyCR"
      }
    },
    {
      "cell_type": "code",
      "source": [
        "# Configuración del predictor con best_quality preset\n",
        "predictor = TabularPredictor(\n",
        "    label='Outcome',\n",
        "    eval_metric='accuracy',\n",
        "    path='./autogluon_models'\n",
        ")\n",
        "\n",
        "# Entrenamiento con configuración optimizada\n",
        "predictor.fit(\n",
        "    train_data=train_data,\n",
        "    presets='best_quality',\n",
        "    time_limit=300,  # 5 minutos para evitar ejecuciones largas\n",
        "    verbosity=2\n",
        ")"
      ],
      "metadata": {
        "colab": {
          "base_uri": "https://localhost:8080/"
        },
        "id": "lqoIeUuVeW9F",
        "outputId": "a80e9d68-944e-40e8-9574-dd3c32553e66"
      },
      "execution_count": 13,
      "outputs": [
        {
          "output_type": "stream",
          "name": "stderr",
          "text": [
            "Warning: path already exists! This predictor may overwrite an existing predictor! path=\"./autogluon_models\"\n",
            "Verbosity: 2 (Standard Logging)\n",
            "=================== System Info ===================\n",
            "AutoGluon Version:  1.4.0\n",
            "Python Version:     3.12.11\n",
            "Operating System:   Linux\n",
            "Platform Machine:   x86_64\n",
            "Platform Version:   #1 SMP PREEMPT_DYNAMIC Sat Sep  6 09:54:41 UTC 2025\n",
            "CPU Count:          2\n",
            "Memory Avail:       10.45 GB / 12.67 GB (82.5%)\n",
            "Disk Space Avail:   73.36 GB / 112.64 GB (65.1%)\n",
            "===================================================\n",
            "Presets specified: ['best_quality']\n",
            "Using hyperparameters preset: hyperparameters='zeroshot'\n",
            "Setting dynamic_stacking from 'auto' to True. Reason: Enable dynamic_stacking when use_bag_holdout is disabled. (use_bag_holdout=False)\n",
            "Stack configuration (auto_stack=True): num_stack_levels=1, num_bag_folds=8, num_bag_sets=1\n",
            "DyStack is enabled (dynamic_stacking=True). AutoGluon will try to determine whether the input data is affected by stacked overfitting and enable or disable stacking as a consequence.\n",
            "\tThis is used to identify the optimal `num_stack_levels` value. Copies of AutoGluon will be fit on subsets of the data. Then holdout validation data is used to detect stacked overfitting.\n",
            "\tRunning DyStack for up to 75s of the 300s of remaining time (25%).\n",
            "/usr/local/lib/python3.12/dist-packages/autogluon/tabular/predictor/predictor.py:1444: UserWarning: Failed to use ray for memory safe fits. Falling back to normal fit. Error: ImportError('ray is required to train folds in parallel for TabularPredictor or HPO for MultiModalPredictor. A quick tip is to install via `pip install \"ray>=2.10.0,<2.45.0\"`')\n",
            "  stacked_overfitting = self._sub_fit_memory_save_wrapper(\n",
            "\t\tContext path: \"/content/autogluon_models/ds_sub_fit/sub_fit_ho\"\n",
            "Running DyStack sub-fit ...\n",
            "Beginning AutoGluon training ... Time limit = 75s\n",
            "AutoGluon will save models to \"/content/autogluon_models/ds_sub_fit/sub_fit_ho\"\n",
            "Train Data Rows:    545\n",
            "Train Data Columns: 8\n",
            "Label Column:       Outcome\n",
            "Problem Type:       binary\n",
            "Preprocessing data ...\n",
            "Selected class <--> label mapping:  class 1 = 1, class 0 = 0\n",
            "Using Feature Generators to preprocess the data ...\n",
            "Fitting AutoMLPipelineFeatureGenerator...\n",
            "\tAvailable Memory:                    10703.02 MB\n",
            "\tTrain Data (Original)  Memory Usage: 0.03 MB (0.0% of available memory)\n",
            "\tInferring data type of each feature based on column values. Set feature_metadata_in to manually specify special dtypes of the features.\n",
            "\tStage 1 Generators:\n",
            "\t\tFitting AsTypeFeatureGenerator...\n",
            "\tStage 2 Generators:\n",
            "\t\tFitting FillNaFeatureGenerator...\n",
            "\tStage 3 Generators:\n",
            "\t\tFitting IdentityFeatureGenerator...\n",
            "\tStage 4 Generators:\n",
            "\t\tFitting DropUniqueFeatureGenerator...\n",
            "\tStage 5 Generators:\n",
            "\t\tFitting DropDuplicatesFeatureGenerator...\n",
            "\tTypes of features in original data (raw dtype, special dtypes):\n",
            "\t\t('float', []) : 2 | ['BMI', 'DiabetesPedigreeFunction']\n",
            "\t\t('int', [])   : 6 | ['Pregnancies', 'Glucose', 'BloodPressure', 'SkinThickness', 'Insulin', ...]\n",
            "\tTypes of features in processed data (raw dtype, special dtypes):\n",
            "\t\t('float', []) : 2 | ['BMI', 'DiabetesPedigreeFunction']\n",
            "\t\t('int', [])   : 6 | ['Pregnancies', 'Glucose', 'BloodPressure', 'SkinThickness', 'Insulin', ...]\n",
            "\t0.0s = Fit runtime\n",
            "\t8 features in original data used to generate 8 features in processed data.\n",
            "\tTrain Data (Processed) Memory Usage: 0.03 MB (0.0% of available memory)\n",
            "Data preprocessing and feature engineering runtime = 0.04s ...\n",
            "AutoGluon will gauge predictive performance using evaluation metric: 'accuracy'\n",
            "\tTo change this, specify the eval_metric parameter of Predictor()\n",
            "Large model count detected (110 configs) ... Only displaying the first 3 models of each family. To see all, set `verbosity=3`.\n",
            "User-specified model hyperparameters to be fit:\n",
            "{\n",
            "\t'NN_TORCH': [{}, {'activation': 'elu', 'dropout_prob': 0.10077639529843717, 'hidden_size': 108, 'learning_rate': 0.002735937344002146, 'num_layers': 4, 'use_batchnorm': True, 'weight_decay': 1.356433327634438e-12, 'ag_args': {'name_suffix': '_r79', 'priority': -2}}, {'activation': 'elu', 'dropout_prob': 0.11897478034205347, 'hidden_size': 213, 'learning_rate': 0.0010474382260641949, 'num_layers': 4, 'use_batchnorm': False, 'weight_decay': 5.594471067786272e-10, 'ag_args': {'name_suffix': '_r22', 'priority': -7}}],\n",
            "\t'GBM': [{'extra_trees': True, 'ag_args': {'name_suffix': 'XT'}}, {}, {'learning_rate': 0.03, 'num_leaves': 128, 'feature_fraction': 0.9, 'min_data_in_leaf': 3, 'ag_args': {'name_suffix': 'Large', 'priority': 0, 'hyperparameter_tune_kwargs': None}}],\n",
            "\t'CAT': [{}, {'depth': 6, 'grow_policy': 'SymmetricTree', 'l2_leaf_reg': 2.1542798306067823, 'learning_rate': 0.06864209415792857, 'max_ctr_complexity': 4, 'one_hot_max_size': 10, 'ag_args': {'name_suffix': '_r177', 'priority': -1}}, {'depth': 8, 'grow_policy': 'Depthwise', 'l2_leaf_reg': 2.7997999596449104, 'learning_rate': 0.031375015734637225, 'max_ctr_complexity': 2, 'one_hot_max_size': 3, 'ag_args': {'name_suffix': '_r9', 'priority': -5}}],\n",
            "\t'XGB': [{}, {'colsample_bytree': 0.6917311125174739, 'enable_categorical': False, 'learning_rate': 0.018063876087523967, 'max_depth': 10, 'min_child_weight': 0.6028633586934382, 'ag_args': {'name_suffix': '_r33', 'priority': -8}}, {'colsample_bytree': 0.6628423832084077, 'enable_categorical': False, 'learning_rate': 0.08775715546881824, 'max_depth': 5, 'min_child_weight': 0.6294123374222513, 'ag_args': {'name_suffix': '_r89', 'priority': -16}}],\n",
            "\t'FASTAI': [{}, {'bs': 256, 'emb_drop': 0.5411770367537934, 'epochs': 43, 'layers': [800, 400], 'lr': 0.01519848858318159, 'ps': 0.23782946566604385, 'ag_args': {'name_suffix': '_r191', 'priority': -4}}, {'bs': 2048, 'emb_drop': 0.05070411322605811, 'epochs': 29, 'layers': [200, 100], 'lr': 0.08974235041576624, 'ps': 0.10393466140748028, 'ag_args': {'name_suffix': '_r102', 'priority': -11}}],\n",
            "\t'RF': [{'criterion': 'gini', 'ag_args': {'name_suffix': 'Gini', 'problem_types': ['binary', 'multiclass']}}, {'criterion': 'entropy', 'ag_args': {'name_suffix': 'Entr', 'problem_types': ['binary', 'multiclass']}}, {'criterion': 'squared_error', 'ag_args': {'name_suffix': 'MSE', 'problem_types': ['regression', 'quantile']}}],\n",
            "\t'XT': [{'criterion': 'gini', 'ag_args': {'name_suffix': 'Gini', 'problem_types': ['binary', 'multiclass']}}, {'criterion': 'entropy', 'ag_args': {'name_suffix': 'Entr', 'problem_types': ['binary', 'multiclass']}}, {'criterion': 'squared_error', 'ag_args': {'name_suffix': 'MSE', 'problem_types': ['regression', 'quantile']}}],\n",
            "}\n",
            "AutoGluon will fit 2 stack levels (L1 to L2) ...\n",
            "Fitting 108 L1 models, fit_strategy=\"sequential\" ...\n",
            "Fitting model: LightGBMXT_BAG_L1 ... Training model for up to 49.95s of the 74.93s of remaining time.\n",
            "\tFitting 8 child models (S1F1 - S1F8) | Fitting with SequentialLocalFoldFittingStrategy (sequential: cpus=1, gpus=0)\n",
            "\t0.8\t = Validation score   (accuracy)\n",
            "\t2.45s\t = Training   runtime\n",
            "\t0.01s\t = Validation runtime\n",
            "Fitting model: LightGBM_BAG_L1 ... Training model for up to 47.45s of the 72.43s of remaining time.\n",
            "\tFitting 8 child models (S1F1 - S1F8) | Fitting with SequentialLocalFoldFittingStrategy (sequential: cpus=1, gpus=0)\n",
            "\t0.7835\t = Validation score   (accuracy)\n",
            "\t4.84s\t = Training   runtime\n",
            "\t0.01s\t = Validation runtime\n",
            "Fitting model: RandomForestGini_BAG_L1 ... Training model for up to 42.52s of the 67.50s of remaining time.\n",
            "\t0.7541\t = Validation score   (accuracy)\n",
            "\t0.82s\t = Training   runtime\n",
            "\t0.23s\t = Validation runtime\n",
            "Fitting model: RandomForestEntr_BAG_L1 ... Training model for up to 41.40s of the 66.38s of remaining time.\n",
            "\t0.7431\t = Validation score   (accuracy)\n",
            "\t0.95s\t = Training   runtime\n",
            "\t0.12s\t = Validation runtime\n",
            "Fitting model: CatBoost_BAG_L1 ... Training model for up to 40.29s of the 65.27s of remaining time.\n",
            "\tFitting 8 child models (S1F1 - S1F8) | Fitting with SequentialLocalFoldFittingStrategy (sequential: cpus=1, gpus=0)\n",
            "\tWarning: Exception caused CatBoost_BAG_L1 to fail during training (ImportError)... Skipping this model.\n",
            "\t\t`import catboost` failed. A quick tip is to install via `pip install autogluon.tabular[catboost]==1.4.0`.\n",
            "Fitting model: ExtraTreesGini_BAG_L1 ... Training model for up to 40.03s of the 65.01s of remaining time.\n",
            "\t0.767\t = Validation score   (accuracy)\n",
            "\t0.63s\t = Training   runtime\n",
            "\t0.13s\t = Validation runtime\n",
            "Fitting model: ExtraTreesEntr_BAG_L1 ... Training model for up to 39.23s of the 64.21s of remaining time.\n",
            "\t0.7578\t = Validation score   (accuracy)\n",
            "\t0.64s\t = Training   runtime\n",
            "\t0.12s\t = Validation runtime\n",
            "Fitting model: NeuralNetFastAI_BAG_L1 ... Training model for up to 38.43s of the 63.41s of remaining time.\n",
            "\tFitting 8 child models (S1F1 - S1F8) | Fitting with SequentialLocalFoldFittingStrategy (sequential: cpus=1, gpus=0)\n",
            "No improvement since epoch 5: early stopping\n",
            "No improvement since epoch 9: early stopping\n",
            "No improvement since epoch 6: early stopping\n",
            "No improvement since epoch 5: early stopping\n",
            "No improvement since epoch 8: early stopping\n",
            "\t0.8018\t = Validation score   (accuracy)\n",
            "\t6.08s\t = Training   runtime\n",
            "\t0.06s\t = Validation runtime\n",
            "Fitting model: XGBoost_BAG_L1 ... Training model for up to 32.14s of the 57.12s of remaining time.\n",
            "\tFitting 8 child models (S1F1 - S1F8) | Fitting with SequentialLocalFoldFittingStrategy (sequential: cpus=1, gpus=0)\n",
            "\t0.778\t = Validation score   (accuracy)\n",
            "\t3.13s\t = Training   runtime\n",
            "\t0.03s\t = Validation runtime\n",
            "Fitting model: NeuralNetTorch_BAG_L1 ... Training model for up to 28.82s of the 53.81s of remaining time.\n",
            "\tFitting 8 child models (S1F1 - S1F8) | Fitting with SequentialLocalFoldFittingStrategy (sequential: cpus=1, gpus=0)\n",
            "\tRan out of time, stopping training early. (Stopping on epoch 62)\n",
            "\tRan out of time, stopping training early. (Stopping on epoch 45)\n",
            "\t0.7908\t = Validation score   (accuracy)\n",
            "\t17.41s\t = Training   runtime\n",
            "\t0.1s\t = Validation runtime\n",
            "Fitting model: LightGBMLarge_BAG_L1 ... Training model for up to 11.25s of the 36.23s of remaining time.\n",
            "\tFitting 8 child models (S1F1 - S1F8) | Fitting with SequentialLocalFoldFittingStrategy (sequential: cpus=1, gpus=0)\n",
            "\tRan out of time, early stopping on iteration 137. Best iteration is:\n",
            "\t[15]\tvalid_set's binary_error: 0.235294\n",
            "\t0.7853\t = Validation score   (accuracy)\n",
            "\t6.37s\t = Training   runtime\n",
            "\t0.01s\t = Validation runtime\n",
            "Fitting model: CatBoost_r177_BAG_L1 ... Training model for up to 4.56s of the 29.54s of remaining time.\n",
            "\tFitting 8 child models (S1F1 - S1F8) | Fitting with SequentialLocalFoldFittingStrategy (sequential: cpus=1, gpus=0)\n",
            "\tWarning: Exception caused CatBoost_r177_BAG_L1 to fail during training (ImportError)... Skipping this model.\n",
            "\t\t`import catboost` failed. A quick tip is to install via `pip install autogluon.tabular[catboost]==1.4.0`.\n",
            "Fitting model: NeuralNetTorch_r79_BAG_L1 ... Training model for up to 4.31s of the 29.29s of remaining time.\n",
            "\tFitting 8 child models (S1F1 - S1F8) | Fitting with SequentialLocalFoldFittingStrategy (sequential: cpus=1, gpus=0)\n",
            "\tRan out of time, stopping training early. (Stopping on epoch 8)\n",
            "\tRan out of time, stopping training early. (Stopping on epoch 9)\n",
            "\tRan out of time, stopping training early. (Stopping on epoch 9)\n",
            "\tRan out of time, stopping training early. (Stopping on epoch 10)\n",
            "\tRan out of time, stopping training early. (Stopping on epoch 11)\n",
            "\tRan out of time, stopping training early. (Stopping on epoch 12)\n",
            "\tRan out of time, stopping training early. (Stopping on epoch 15)\n",
            "\t0.8018\t = Validation score   (accuracy)\n",
            "\t4.01s\t = Training   runtime\n",
            "\t0.08s\t = Validation runtime\n",
            "Fitting model: LightGBM_r131_BAG_L1 ... Training model for up to 0.15s of the 25.13s of remaining time.\n",
            "\tFitting 8 child models (S1F1 - S1F8) | Fitting with SequentialLocalFoldFittingStrategy (sequential: cpus=1, gpus=0)\n",
            "\tRan out of time, early stopping on iteration 1. Best iteration is:\n",
            "\t[1]\tvalid_set's binary_error: 0.347826\n",
            "\tTime limit exceeded... Skipping LightGBM_r131_BAG_L1.\n",
            "Fitting model: WeightedEnsemble_L2 ... Training model for up to 74.95s of the 24.58s of remaining time.\n",
            "\tEnsemble Weights: {'NeuralNetFastAI_BAG_L1': 0.941, 'XGBoost_BAG_L1': 0.059}\n",
            "\t0.8037\t = Validation score   (accuracy)\n",
            "\t0.07s\t = Training   runtime\n",
            "\t0.0s\t = Validation runtime\n",
            "Fitting 108 L2 models, fit_strategy=\"sequential\" ...\n",
            "Fitting model: LightGBMXT_BAG_L2 ... Training model for up to 24.48s of the 24.45s of remaining time.\n",
            "\tFitting 8 child models (S1F1 - S1F8) | Fitting with SequentialLocalFoldFittingStrategy (sequential: cpus=1, gpus=0)\n",
            "\t0.8092\t = Validation score   (accuracy)\n",
            "\t3.35s\t = Training   runtime\n",
            "\t0.01s\t = Validation runtime\n",
            "Fitting model: LightGBM_BAG_L2 ... Training model for up to 21.05s of the 21.01s of remaining time.\n",
            "\tFitting 8 child models (S1F1 - S1F8) | Fitting with SequentialLocalFoldFittingStrategy (sequential: cpus=1, gpus=0)\n",
            "\t0.8073\t = Validation score   (accuracy)\n",
            "\t3.4s\t = Training   runtime\n",
            "\t0.01s\t = Validation runtime\n",
            "Fitting model: RandomForestGini_BAG_L2 ... Training model for up to 17.56s of the 17.53s of remaining time.\n",
            "\t0.7927\t = Validation score   (accuracy)\n",
            "\t0.72s\t = Training   runtime\n",
            "\t0.11s\t = Validation runtime\n",
            "Fitting model: RandomForestEntr_BAG_L2 ... Training model for up to 16.70s of the 16.66s of remaining time.\n",
            "\t0.8018\t = Validation score   (accuracy)\n",
            "\t0.76s\t = Training   runtime\n",
            "\t0.11s\t = Validation runtime\n",
            "Fitting model: CatBoost_BAG_L2 ... Training model for up to 15.80s of the 15.76s of remaining time.\n",
            "\tFitting 8 child models (S1F1 - S1F8) | Fitting with SequentialLocalFoldFittingStrategy (sequential: cpus=1, gpus=0)\n",
            "\tWarning: Exception caused CatBoost_BAG_L2 to fail during training (ImportError)... Skipping this model.\n",
            "\t\t`import catboost` failed. A quick tip is to install via `pip install autogluon.tabular[catboost]==1.4.0`.\n",
            "Fitting model: ExtraTreesGini_BAG_L2 ... Training model for up to 15.53s of the 15.50s of remaining time.\n",
            "\t0.7927\t = Validation score   (accuracy)\n",
            "\t0.63s\t = Training   runtime\n",
            "\t0.11s\t = Validation runtime\n",
            "Fitting model: ExtraTreesEntr_BAG_L2 ... Training model for up to 14.75s of the 14.72s of remaining time.\n",
            "\t0.7853\t = Validation score   (accuracy)\n",
            "\t0.62s\t = Training   runtime\n",
            "\t0.12s\t = Validation runtime\n",
            "Fitting model: NeuralNetFastAI_BAG_L2 ... Training model for up to 13.98s of the 13.95s of remaining time.\n",
            "\tFitting 8 child models (S1F1 - S1F8) | Fitting with SequentialLocalFoldFittingStrategy (sequential: cpus=1, gpus=0)\n",
            "No improvement since epoch 7: early stopping\n",
            "No improvement since epoch 6: early stopping\n",
            "No improvement since epoch 2: early stopping\n",
            "\t0.8037\t = Validation score   (accuracy)\n",
            "\t3.84s\t = Training   runtime\n",
            "\t0.05s\t = Validation runtime\n",
            "Fitting model: XGBoost_BAG_L2 ... Training model for up to 10.00s of the 9.97s of remaining time.\n",
            "\tFitting 8 child models (S1F1 - S1F8) | Fitting with SequentialLocalFoldFittingStrategy (sequential: cpus=1, gpus=0)\n",
            "\t0.8055\t = Validation score   (accuracy)\n",
            "\t2.93s\t = Training   runtime\n",
            "\t0.02s\t = Validation runtime\n",
            "Fitting model: NeuralNetTorch_BAG_L2 ... Training model for up to 6.96s of the 6.92s of remaining time.\n",
            "\tFitting 8 child models (S1F1 - S1F8) | Fitting with SequentialLocalFoldFittingStrategy (sequential: cpus=1, gpus=0)\n",
            "\tRan out of time, stopping training early. (Stopping on epoch 14)\n",
            "\tRan out of time, stopping training early. (Stopping on epoch 13)\n",
            "\tRan out of time, stopping training early. (Stopping on epoch 14)\n",
            "\tRan out of time, stopping training early. (Stopping on epoch 12)\n",
            "\tRan out of time, stopping training early. (Stopping on epoch 21)\n",
            "\t0.7817\t = Validation score   (accuracy)\n",
            "\t6.52s\t = Training   runtime\n",
            "\t0.12s\t = Validation runtime\n",
            "Fitting model: WeightedEnsemble_L3 ... Training model for up to 74.95s of the 0.04s of remaining time.\n",
            "\tEnsemble Weights: {'LightGBMXT_BAG_L2': 1.0}\n",
            "\t0.8092\t = Validation score   (accuracy)\n",
            "\t0.14s\t = Training   runtime\n",
            "\t0.0s\t = Validation runtime\n",
            "AutoGluon training complete, total runtime = 75.13s ... Best model: WeightedEnsemble_L3 | Estimated inference throughput: 289.4 rows/s (69 batch size)\n",
            "Disabling decision threshold calibration for metric `accuracy` due to having fewer than 10000 rows of validation data for calibration, to avoid overfitting (545 rows).\n",
            "\t`accuracy` is generally not improved through threshold calibration. Force calibration via specifying `calibrate_decision_threshold=True`.\n",
            "TabularPredictor saved. To load, use: predictor = TabularPredictor.load(\"/content/autogluon_models/ds_sub_fit/sub_fit_ho\")\n",
            "Deleting DyStack predictor artifacts (clean_up_fits=True) ...\n",
            "Leaderboard on holdout data (DyStack):\n",
            "                        model  score_holdout  score_val eval_metric  pred_time_test  pred_time_val   fit_time  pred_time_test_marginal  pred_time_val_marginal  fit_time_marginal  stack_level  can_infer  fit_order\n",
            "0           LightGBMXT_BAG_L1       0.840580   0.800000    accuracy        0.016459       0.006390   2.448604                 0.016459                0.006390           2.448604            1       True          1\n",
            "1           LightGBMXT_BAG_L2       0.840580   0.809174    accuracy        0.414057       0.552462  20.464968                 0.014342                0.014881           3.349461            2       True         13\n",
            "2             LightGBM_BAG_L2       0.840580   0.807339    accuracy        0.415813       0.549276  20.511548                 0.016098                0.011694           3.396040            2       True         14\n",
            "3         WeightedEnsemble_L3       0.840580   0.809174    accuracy        0.416024       0.553671  20.605820                 0.001967                0.001209           0.140852            3       True         22\n",
            "4              XGBoost_BAG_L2       0.840580   0.805505    accuracy        0.474672       0.560738  20.048796                 0.074957                0.023156           2.933289            2       True         20\n",
            "5     RandomForestEntr_BAG_L1       0.826087   0.743119    accuracy        0.076278       0.123890   0.947557                 0.076278                0.123890           0.947557            1       True          4\n",
            "6       ExtraTreesEntr_BAG_L1       0.826087   0.757798    accuracy        0.089528       0.123958   0.642109                 0.089528                0.123958           0.642109            1       True          6\n",
            "7   NeuralNetTorch_r79_BAG_L1       0.826087   0.801835    accuracy        0.095828       0.080555   4.005755                 0.095828                0.080555           4.005755            1       True         11\n",
            "8         WeightedEnsemble_L2       0.826087   0.803670    accuracy        0.121583       0.092116   9.287373                 0.001693                0.001190           0.069622            2       True         12\n",
            "9       ExtraTreesEntr_BAG_L2       0.826087   0.785321    accuracy        0.475002       0.652804  17.732834                 0.075287                0.115222           0.617326            2       True         18\n",
            "10      ExtraTreesGini_BAG_L2       0.826087   0.792661    accuracy        0.484947       0.650827  17.742084                 0.085232                0.113245           0.626576            2       True         17\n",
            "11            LightGBM_BAG_L1       0.811594   0.783486    accuracy        0.016657       0.007537   4.838318                 0.016657                0.007537           4.838318            1       True          2\n",
            "12     NeuralNetFastAI_BAG_L1       0.811594   0.801835    accuracy        0.064539       0.059520   6.084463                 0.064539                0.059520           6.084463            1       True          7\n",
            "13      NeuralNetTorch_BAG_L1       0.811594   0.790826    accuracy        0.071005       0.101362  17.410625                 0.071005                0.101362          17.410625            1       True          9\n",
            "14    RandomForestGini_BAG_L1       0.811594   0.754128    accuracy        0.075925       0.227962   0.815675                 0.075925                0.227962           0.815675            1       True          3\n",
            "15      ExtraTreesGini_BAG_L1       0.811594   0.766972    accuracy        0.091612       0.131750   0.627724                 0.091612                0.131750           0.627724            1       True          5\n",
            "16    RandomForestGini_BAG_L2       0.811594   0.792661    accuracy        0.474042       0.647131  17.839412                 0.074327                0.109550           0.723905            2       True         15\n",
            "17    RandomForestEntr_BAG_L2       0.811594   0.801835    accuracy        0.476469       0.647614  17.874819                 0.076754                0.110033           0.759312            2       True         16\n",
            "18      NeuralNetTorch_BAG_L2       0.811594   0.781651    accuracy        0.497648       0.653090  23.637417                 0.097934                0.115509           6.521909            2       True         21\n",
            "19     NeuralNetFastAI_BAG_L2       0.811594   0.803670    accuracy        0.504408       0.583691  20.954659                 0.104693                0.046110           3.839152            2       True         19\n",
            "20             XGBoost_BAG_L1       0.797101   0.777982    accuracy        0.055351       0.031405   3.133287                 0.055351                0.031405           3.133287            1       True          8\n",
            "21       LightGBMLarge_BAG_L1       0.782609   0.785321    accuracy        0.069544       0.011342   6.368318                 0.069544                0.011342           6.368318            1       True         10\n",
            "\t1\t = Optimal   num_stack_levels (Stacked Overfitting Occurred: False)\n",
            "\t78s\t = DyStack   runtime |\t222s\t = Remaining runtime\n",
            "Starting main fit with num_stack_levels=1.\n",
            "\tFor future fit calls on this dataset, you can skip DyStack to save time: `predictor.fit(..., dynamic_stacking=False, num_stack_levels=1)`\n",
            "Beginning AutoGluon training ... Time limit = 222s\n",
            "AutoGluon will save models to \"/content/autogluon_models\"\n",
            "Train Data Rows:    614\n",
            "Train Data Columns: 8\n",
            "Label Column:       Outcome\n",
            "Problem Type:       binary\n",
            "Preprocessing data ...\n",
            "Selected class <--> label mapping:  class 1 = 1, class 0 = 0\n",
            "Using Feature Generators to preprocess the data ...\n",
            "Fitting AutoMLPipelineFeatureGenerator...\n",
            "\tAvailable Memory:                    10679.06 MB\n",
            "\tTrain Data (Original)  Memory Usage: 0.04 MB (0.0% of available memory)\n",
            "\tInferring data type of each feature based on column values. Set feature_metadata_in to manually specify special dtypes of the features.\n",
            "\tStage 1 Generators:\n",
            "\t\tFitting AsTypeFeatureGenerator...\n",
            "\tStage 2 Generators:\n",
            "\t\tFitting FillNaFeatureGenerator...\n",
            "\tStage 3 Generators:\n",
            "\t\tFitting IdentityFeatureGenerator...\n",
            "\tStage 4 Generators:\n",
            "\t\tFitting DropUniqueFeatureGenerator...\n",
            "\tStage 5 Generators:\n",
            "\t\tFitting DropDuplicatesFeatureGenerator...\n",
            "\tTypes of features in original data (raw dtype, special dtypes):\n",
            "\t\t('float', []) : 2 | ['BMI', 'DiabetesPedigreeFunction']\n",
            "\t\t('int', [])   : 6 | ['Pregnancies', 'Glucose', 'BloodPressure', 'SkinThickness', 'Insulin', ...]\n",
            "\tTypes of features in processed data (raw dtype, special dtypes):\n",
            "\t\t('float', []) : 2 | ['BMI', 'DiabetesPedigreeFunction']\n",
            "\t\t('int', [])   : 6 | ['Pregnancies', 'Glucose', 'BloodPressure', 'SkinThickness', 'Insulin', ...]\n",
            "\t0.0s = Fit runtime\n",
            "\t8 features in original data used to generate 8 features in processed data.\n",
            "\tTrain Data (Processed) Memory Usage: 0.04 MB (0.0% of available memory)\n",
            "Data preprocessing and feature engineering runtime = 0.06s ...\n",
            "AutoGluon will gauge predictive performance using evaluation metric: 'accuracy'\n",
            "\tTo change this, specify the eval_metric parameter of Predictor()\n",
            "Large model count detected (110 configs) ... Only displaying the first 3 models of each family. To see all, set `verbosity=3`.\n",
            "User-specified model hyperparameters to be fit:\n",
            "{\n",
            "\t'NN_TORCH': [{}, {'activation': 'elu', 'dropout_prob': 0.10077639529843717, 'hidden_size': 108, 'learning_rate': 0.002735937344002146, 'num_layers': 4, 'use_batchnorm': True, 'weight_decay': 1.356433327634438e-12, 'ag_args': {'name_suffix': '_r79', 'priority': -2}}, {'activation': 'elu', 'dropout_prob': 0.11897478034205347, 'hidden_size': 213, 'learning_rate': 0.0010474382260641949, 'num_layers': 4, 'use_batchnorm': False, 'weight_decay': 5.594471067786272e-10, 'ag_args': {'name_suffix': '_r22', 'priority': -7}}],\n",
            "\t'GBM': [{'extra_trees': True, 'ag_args': {'name_suffix': 'XT'}}, {}, {'learning_rate': 0.03, 'num_leaves': 128, 'feature_fraction': 0.9, 'min_data_in_leaf': 3, 'ag_args': {'name_suffix': 'Large', 'priority': 0, 'hyperparameter_tune_kwargs': None}}],\n",
            "\t'CAT': [{}, {'depth': 6, 'grow_policy': 'SymmetricTree', 'l2_leaf_reg': 2.1542798306067823, 'learning_rate': 0.06864209415792857, 'max_ctr_complexity': 4, 'one_hot_max_size': 10, 'ag_args': {'name_suffix': '_r177', 'priority': -1}}, {'depth': 8, 'grow_policy': 'Depthwise', 'l2_leaf_reg': 2.7997999596449104, 'learning_rate': 0.031375015734637225, 'max_ctr_complexity': 2, 'one_hot_max_size': 3, 'ag_args': {'name_suffix': '_r9', 'priority': -5}}],\n",
            "\t'XGB': [{}, {'colsample_bytree': 0.6917311125174739, 'enable_categorical': False, 'learning_rate': 0.018063876087523967, 'max_depth': 10, 'min_child_weight': 0.6028633586934382, 'ag_args': {'name_suffix': '_r33', 'priority': -8}}, {'colsample_bytree': 0.6628423832084077, 'enable_categorical': False, 'learning_rate': 0.08775715546881824, 'max_depth': 5, 'min_child_weight': 0.6294123374222513, 'ag_args': {'name_suffix': '_r89', 'priority': -16}}],\n",
            "\t'FASTAI': [{}, {'bs': 256, 'emb_drop': 0.5411770367537934, 'epochs': 43, 'layers': [800, 400], 'lr': 0.01519848858318159, 'ps': 0.23782946566604385, 'ag_args': {'name_suffix': '_r191', 'priority': -4}}, {'bs': 2048, 'emb_drop': 0.05070411322605811, 'epochs': 29, 'layers': [200, 100], 'lr': 0.08974235041576624, 'ps': 0.10393466140748028, 'ag_args': {'name_suffix': '_r102', 'priority': -11}}],\n",
            "\t'RF': [{'criterion': 'gini', 'ag_args': {'name_suffix': 'Gini', 'problem_types': ['binary', 'multiclass']}}, {'criterion': 'entropy', 'ag_args': {'name_suffix': 'Entr', 'problem_types': ['binary', 'multiclass']}}, {'criterion': 'squared_error', 'ag_args': {'name_suffix': 'MSE', 'problem_types': ['regression', 'quantile']}}],\n",
            "\t'XT': [{'criterion': 'gini', 'ag_args': {'name_suffix': 'Gini', 'problem_types': ['binary', 'multiclass']}}, {'criterion': 'entropy', 'ag_args': {'name_suffix': 'Entr', 'problem_types': ['binary', 'multiclass']}}, {'criterion': 'squared_error', 'ag_args': {'name_suffix': 'MSE', 'problem_types': ['regression', 'quantile']}}],\n",
            "}\n",
            "AutoGluon will fit 2 stack levels (L1 to L2) ...\n",
            "Fitting 108 L1 models, fit_strategy=\"sequential\" ...\n",
            "Fitting model: LightGBMXT_BAG_L1 ... Training model for up to 147.98s of the 222.01s of remaining time.\n",
            "\tFitting 8 child models (S1F1 - S1F8) | Fitting with SequentialLocalFoldFittingStrategy (sequential: cpus=1, gpus=0)\n",
            "\t0.798\t = Validation score   (accuracy)\n",
            "\t3.33s\t = Training   runtime\n",
            "\t0.01s\t = Validation runtime\n",
            "Fitting model: LightGBM_BAG_L1 ... Training model for up to 144.57s of the 218.60s of remaining time.\n",
            "\tFitting 8 child models (S1F1 - S1F8) | Fitting with SequentialLocalFoldFittingStrategy (sequential: cpus=1, gpus=0)\n",
            "\t0.7866\t = Validation score   (accuracy)\n",
            "\t4.49s\t = Training   runtime\n",
            "\t0.01s\t = Validation runtime\n",
            "Fitting model: RandomForestGini_BAG_L1 ... Training model for up to 139.99s of the 214.02s of remaining time.\n",
            "\t0.7606\t = Validation score   (accuracy)\n",
            "\t0.67s\t = Training   runtime\n",
            "\t0.11s\t = Validation runtime\n",
            "Fitting model: RandomForestEntr_BAG_L1 ... Training model for up to 139.17s of the 213.20s of remaining time.\n",
            "\t0.7573\t = Validation score   (accuracy)\n",
            "\t0.96s\t = Training   runtime\n",
            "\t0.18s\t = Validation runtime\n",
            "Fitting model: CatBoost_BAG_L1 ... Training model for up to 138.00s of the 212.03s of remaining time.\n",
            "\tFitting 8 child models (S1F1 - S1F8) | Fitting with SequentialLocalFoldFittingStrategy (sequential: cpus=1, gpus=0)\n",
            "\tWarning: Exception caused CatBoost_BAG_L1 to fail during training (ImportError)... Skipping this model.\n",
            "\t\t`import catboost` failed. A quick tip is to install via `pip install autogluon.tabular[catboost]==1.4.0`.\n",
            "Fitting model: ExtraTreesGini_BAG_L1 ... Training model for up to 137.74s of the 211.77s of remaining time.\n",
            "\t0.7622\t = Validation score   (accuracy)\n",
            "\t0.9s\t = Training   runtime\n",
            "\t0.19s\t = Validation runtime\n",
            "Fitting model: ExtraTreesEntr_BAG_L1 ... Training model for up to 136.60s of the 210.63s of remaining time.\n",
            "\t0.7752\t = Validation score   (accuracy)\n",
            "\t0.83s\t = Training   runtime\n",
            "\t0.4s\t = Validation runtime\n",
            "Fitting model: NeuralNetFastAI_BAG_L1 ... Training model for up to 135.28s of the 209.31s of remaining time.\n",
            "\tFitting 8 child models (S1F1 - S1F8) | Fitting with SequentialLocalFoldFittingStrategy (sequential: cpus=1, gpus=0)\n",
            "No improvement since epoch 3: early stopping\n",
            "No improvement since epoch 6: early stopping\n",
            "No improvement since epoch 3: early stopping\n",
            "No improvement since epoch 3: early stopping\n",
            "No improvement since epoch 8: early stopping\n",
            "\t0.7948\t = Validation score   (accuracy)\n",
            "\t4.84s\t = Training   runtime\n",
            "\t0.04s\t = Validation runtime\n",
            "Fitting model: XGBoost_BAG_L1 ... Training model for up to 130.30s of the 204.33s of remaining time.\n",
            "\tFitting 8 child models (S1F1 - S1F8) | Fitting with SequentialLocalFoldFittingStrategy (sequential: cpus=1, gpus=0)\n",
            "\t0.7883\t = Validation score   (accuracy)\n",
            "\t1.91s\t = Training   runtime\n",
            "\t0.02s\t = Validation runtime\n",
            "Fitting model: NeuralNetTorch_BAG_L1 ... Training model for up to 128.30s of the 202.33s of remaining time.\n",
            "\tFitting 8 child models (S1F1 - S1F8) | Fitting with SequentialLocalFoldFittingStrategy (sequential: cpus=1, gpus=0)\n",
            "\t0.7883\t = Validation score   (accuracy)\n",
            "\t11.37s\t = Training   runtime\n",
            "\t0.06s\t = Validation runtime\n",
            "Fitting model: LightGBMLarge_BAG_L1 ... Training model for up to 116.82s of the 190.85s of remaining time.\n",
            "\tFitting 8 child models (S1F1 - S1F8) | Fitting with SequentialLocalFoldFittingStrategy (sequential: cpus=1, gpus=0)\n",
            "\t0.7736\t = Validation score   (accuracy)\n",
            "\t6.59s\t = Training   runtime\n",
            "\t0.01s\t = Validation runtime\n",
            "Fitting model: CatBoost_r177_BAG_L1 ... Training model for up to 109.82s of the 183.85s of remaining time.\n",
            "\tFitting 8 child models (S1F1 - S1F8) | Fitting with SequentialLocalFoldFittingStrategy (sequential: cpus=1, gpus=0)\n",
            "\tWarning: Exception caused CatBoost_r177_BAG_L1 to fail during training (ImportError)... Skipping this model.\n",
            "\t\t`import catboost` failed. A quick tip is to install via `pip install autogluon.tabular[catboost]==1.4.0`.\n",
            "Fitting model: NeuralNetTorch_r79_BAG_L1 ... Training model for up to 109.56s of the 183.59s of remaining time.\n",
            "\tFitting 8 child models (S1F1 - S1F8) | Fitting with SequentialLocalFoldFittingStrategy (sequential: cpus=1, gpus=0)\n",
            "\t0.8143\t = Validation score   (accuracy)\n",
            "\t21.2s\t = Training   runtime\n",
            "\t0.06s\t = Validation runtime\n",
            "Fitting model: LightGBM_r131_BAG_L1 ... Training model for up to 88.23s of the 162.26s of remaining time.\n",
            "\tFitting 8 child models (S1F1 - S1F8) | Fitting with SequentialLocalFoldFittingStrategy (sequential: cpus=1, gpus=0)\n",
            "\t0.7769\t = Validation score   (accuracy)\n",
            "\t4.22s\t = Training   runtime\n",
            "\t0.01s\t = Validation runtime\n",
            "Fitting model: NeuralNetFastAI_r191_BAG_L1 ... Training model for up to 83.86s of the 157.89s of remaining time.\n",
            "\tFitting 8 child models (S1F1 - S1F8) | Fitting with SequentialLocalFoldFittingStrategy (sequential: cpus=1, gpus=0)\n",
            "No improvement since epoch 7: early stopping\n",
            "No improvement since epoch 7: early stopping\n",
            "No improvement since epoch 7: early stopping\n",
            "No improvement since epoch 5: early stopping\n",
            "No improvement since epoch 19: early stopping\n",
            "No improvement since epoch 22: early stopping\n",
            "\t0.8094\t = Validation score   (accuracy)\n",
            "\t11.9s\t = Training   runtime\n",
            "\t0.05s\t = Validation runtime\n",
            "Fitting model: CatBoost_r9_BAG_L1 ... Training model for up to 71.82s of the 145.85s of remaining time.\n",
            "\tFitting 8 child models (S1F1 - S1F8) | Fitting with SequentialLocalFoldFittingStrategy (sequential: cpus=1, gpus=0)\n",
            "\tWarning: Exception caused CatBoost_r9_BAG_L1 to fail during training (ImportError)... Skipping this model.\n",
            "\t\t`import catboost` failed. A quick tip is to install via `pip install autogluon.tabular[catboost]==1.4.0`.\n",
            "Fitting model: LightGBM_r96_BAG_L1 ... Training model for up to 71.55s of the 145.58s of remaining time.\n",
            "\tFitting 8 child models (S1F1 - S1F8) | Fitting with SequentialLocalFoldFittingStrategy (sequential: cpus=1, gpus=0)\n",
            "\t0.7948\t = Validation score   (accuracy)\n",
            "\t2.39s\t = Training   runtime\n",
            "\t0.01s\t = Validation runtime\n",
            "Fitting model: NeuralNetTorch_r22_BAG_L1 ... Training model for up to 69.06s of the 143.09s of remaining time.\n",
            "\tFitting 8 child models (S1F1 - S1F8) | Fitting with SequentialLocalFoldFittingStrategy (sequential: cpus=1, gpus=0)\n",
            "\t0.8046\t = Validation score   (accuracy)\n",
            "\t15.02s\t = Training   runtime\n",
            "\t0.07s\t = Validation runtime\n",
            "Fitting model: XGBoost_r33_BAG_L1 ... Training model for up to 53.89s of the 127.92s of remaining time.\n",
            "\tFitting 8 child models (S1F1 - S1F8) | Fitting with SequentialLocalFoldFittingStrategy (sequential: cpus=1, gpus=0)\n",
            "\t0.7964\t = Validation score   (accuracy)\n",
            "\t3.94s\t = Training   runtime\n",
            "\t0.03s\t = Validation runtime\n",
            "Fitting model: ExtraTrees_r42_BAG_L1 ... Training model for up to 49.82s of the 123.85s of remaining time.\n",
            "\t0.7655\t = Validation score   (accuracy)\n",
            "\t0.89s\t = Training   runtime\n",
            "\t0.19s\t = Validation runtime\n",
            "Fitting model: CatBoost_r137_BAG_L1 ... Training model for up to 48.70s of the 122.73s of remaining time.\n",
            "\tFitting 8 child models (S1F1 - S1F8) | Fitting with SequentialLocalFoldFittingStrategy (sequential: cpus=1, gpus=0)\n",
            "\tWarning: Exception caused CatBoost_r137_BAG_L1 to fail during training (ImportError)... Skipping this model.\n",
            "\t\t`import catboost` failed. A quick tip is to install via `pip install autogluon.tabular[catboost]==1.4.0`.\n",
            "Fitting model: NeuralNetFastAI_r102_BAG_L1 ... Training model for up to 48.38s of the 122.41s of remaining time.\n",
            "\tFitting 8 child models (S1F1 - S1F8) | Fitting with SequentialLocalFoldFittingStrategy (sequential: cpus=1, gpus=0)\n",
            "No improvement since epoch 2: early stopping\n",
            "No improvement since epoch 1: early stopping\n",
            "No improvement since epoch 3: early stopping\n",
            "No improvement since epoch 1: early stopping\n",
            "No improvement since epoch 0: early stopping\n",
            "\t0.8062\t = Validation score   (accuracy)\n",
            "\t19.85s\t = Training   runtime\n",
            "\t0.07s\t = Validation runtime\n",
            "Fitting model: CatBoost_r13_BAG_L1 ... Training model for up to 28.35s of the 102.38s of remaining time.\n",
            "\tFitting 8 child models (S1F1 - S1F8) | Fitting with SequentialLocalFoldFittingStrategy (sequential: cpus=1, gpus=0)\n",
            "\tWarning: Exception caused CatBoost_r13_BAG_L1 to fail during training (ImportError)... Skipping this model.\n",
            "\t\t`import catboost` failed. A quick tip is to install via `pip install autogluon.tabular[catboost]==1.4.0`.\n",
            "Fitting model: RandomForest_r195_BAG_L1 ... Training model for up to 28.09s of the 102.12s of remaining time.\n",
            "\t0.7541\t = Validation score   (accuracy)\n",
            "\t0.85s\t = Training   runtime\n",
            "\t0.12s\t = Validation runtime\n",
            "Fitting model: LightGBM_r188_BAG_L1 ... Training model for up to 27.09s of the 101.12s of remaining time.\n",
            "\tFitting 8 child models (S1F1 - S1F8) | Fitting with SequentialLocalFoldFittingStrategy (sequential: cpus=1, gpus=0)\n",
            "\t0.7915\t = Validation score   (accuracy)\n",
            "\t3.98s\t = Training   runtime\n",
            "\t0.01s\t = Validation runtime\n",
            "Fitting model: NeuralNetFastAI_r145_BAG_L1 ... Training model for up to 22.99s of the 97.02s of remaining time.\n",
            "\tFitting 8 child models (S1F1 - S1F8) | Fitting with SequentialLocalFoldFittingStrategy (sequential: cpus=1, gpus=0)\n",
            "No improvement since epoch 6: early stopping\n",
            "No improvement since epoch 4: early stopping\n",
            "No improvement since epoch 8: early stopping\n",
            "No improvement since epoch 9: early stopping\n",
            "No improvement since epoch 2: early stopping\n",
            "\t0.7964\t = Validation score   (accuracy)\n",
            "\t9.31s\t = Training   runtime\n",
            "\t0.04s\t = Validation runtime\n",
            "Fitting model: XGBoost_r89_BAG_L1 ... Training model for up to 13.53s of the 87.56s of remaining time.\n",
            "\tFitting 8 child models (S1F1 - S1F8) | Fitting with SequentialLocalFoldFittingStrategy (sequential: cpus=1, gpus=0)\n",
            "\t0.7948\t = Validation score   (accuracy)\n",
            "\t1.98s\t = Training   runtime\n",
            "\t0.02s\t = Validation runtime\n",
            "Fitting model: NeuralNetTorch_r30_BAG_L1 ... Training model for up to 11.44s of the 85.47s of remaining time.\n",
            "\tFitting 8 child models (S1F1 - S1F8) | Fitting with SequentialLocalFoldFittingStrategy (sequential: cpus=1, gpus=0)\n",
            "\tRan out of time, stopping training early. (Stopping on epoch 16)\n",
            "\tRan out of time, stopping training early. (Stopping on epoch 17)\n",
            "\tRan out of time, stopping training early. (Stopping on epoch 17)\n",
            "\tRan out of time, stopping training early. (Stopping on epoch 18)\n",
            "\tRan out of time, stopping training early. (Stopping on epoch 19)\n",
            "\tRan out of time, stopping training early. (Stopping on epoch 20)\n",
            "\tRan out of time, stopping training early. (Stopping on epoch 23)\n",
            "\tRan out of time, stopping training early. (Stopping on epoch 19)\n",
            "\t0.8094\t = Validation score   (accuracy)\n",
            "\t10.77s\t = Training   runtime\n",
            "\t0.07s\t = Validation runtime\n",
            "Fitting model: LightGBM_r130_BAG_L1 ... Training model for up to 0.52s of the 74.55s of remaining time.\n",
            "\tFitting 8 child models (S1F1 - S1F8) | Fitting with SequentialLocalFoldFittingStrategy (sequential: cpus=1, gpus=0)\n",
            "\tRan out of time, early stopping on iteration 1. Best iteration is:\n",
            "\t[1]\tvalid_set's binary_error: 0.350649\n",
            "\tTime limit exceeded... Skipping LightGBM_r130_BAG_L1.\n",
            "Fitting model: WeightedEnsemble_L2 ... Training model for up to 222.03s of the 73.81s of remaining time.\n",
            "\tEnsemble Weights: {'NeuralNetTorch_r79_BAG_L1': 0.941, 'NeuralNetFastAI_r191_BAG_L1': 0.059}\n",
            "\t0.816\t = Validation score   (accuracy)\n",
            "\t0.07s\t = Training   runtime\n",
            "\t0.0s\t = Validation runtime\n",
            "Fitting 108 L2 models, fit_strategy=\"sequential\" ...\n",
            "Fitting model: LightGBMXT_BAG_L2 ... Training model for up to 73.72s of the 73.68s of remaining time.\n",
            "\tFitting 8 child models (S1F1 - S1F8) | Fitting with SequentialLocalFoldFittingStrategy (sequential: cpus=1, gpus=0)\n",
            "\t0.8176\t = Validation score   (accuracy)\n",
            "\t2.63s\t = Training   runtime\n",
            "\t0.01s\t = Validation runtime\n",
            "Fitting model: LightGBM_BAG_L2 ... Training model for up to 71.02s of the 70.98s of remaining time.\n",
            "\tFitting 8 child models (S1F1 - S1F8) | Fitting with SequentialLocalFoldFittingStrategy (sequential: cpus=1, gpus=0)\n",
            "\t0.8241\t = Validation score   (accuracy)\n",
            "\t3.29s\t = Training   runtime\n",
            "\t0.01s\t = Validation runtime\n",
            "Fitting model: RandomForestGini_BAG_L2 ... Training model for up to 67.64s of the 67.60s of remaining time.\n",
            "\t0.7915\t = Validation score   (accuracy)\n",
            "\t0.76s\t = Training   runtime\n",
            "\t0.11s\t = Validation runtime\n",
            "Fitting model: RandomForestEntr_BAG_L2 ... Training model for up to 66.73s of the 66.69s of remaining time.\n",
            "\t0.7997\t = Validation score   (accuracy)\n",
            "\t0.77s\t = Training   runtime\n",
            "\t0.13s\t = Validation runtime\n",
            "Fitting model: CatBoost_BAG_L2 ... Training model for up to 65.81s of the 65.77s of remaining time.\n",
            "\tFitting 8 child models (S1F1 - S1F8) | Fitting with SequentialLocalFoldFittingStrategy (sequential: cpus=1, gpus=0)\n",
            "\tWarning: Exception caused CatBoost_BAG_L2 to fail during training (ImportError)... Skipping this model.\n",
            "\t\t`import catboost` failed. A quick tip is to install via `pip install autogluon.tabular[catboost]==1.4.0`.\n",
            "Fitting model: ExtraTreesGini_BAG_L2 ... Training model for up to 65.55s of the 65.51s of remaining time.\n",
            "\t0.7932\t = Validation score   (accuracy)\n",
            "\t0.62s\t = Training   runtime\n",
            "\t0.13s\t = Validation runtime\n",
            "Fitting model: ExtraTreesEntr_BAG_L2 ... Training model for up to 64.76s of the 64.73s of remaining time.\n",
            "\t0.7801\t = Validation score   (accuracy)\n",
            "\t0.61s\t = Training   runtime\n",
            "\t0.11s\t = Validation runtime\n",
            "Fitting model: NeuralNetFastAI_BAG_L2 ... Training model for up to 64.00s of the 63.96s of remaining time.\n",
            "\tFitting 8 child models (S1F1 - S1F8) | Fitting with SequentialLocalFoldFittingStrategy (sequential: cpus=1, gpus=0)\n",
            "No improvement since epoch 2: early stopping\n",
            "No improvement since epoch 1: early stopping\n",
            "No improvement since epoch 1: early stopping\n",
            "No improvement since epoch 4: early stopping\n",
            "No improvement since epoch 1: early stopping\n",
            "No improvement since epoch 7: early stopping\n",
            "No improvement since epoch 4: early stopping\n",
            "No improvement since epoch 1: early stopping\n",
            "\t0.7948\t = Validation score   (accuracy)\n",
            "\t4.52s\t = Training   runtime\n",
            "\t0.05s\t = Validation runtime\n",
            "Fitting model: XGBoost_BAG_L2 ... Training model for up to 59.33s of the 59.29s of remaining time.\n",
            "\tFitting 8 child models (S1F1 - S1F8) | Fitting with SequentialLocalFoldFittingStrategy (sequential: cpus=1, gpus=0)\n",
            "\t0.8225\t = Validation score   (accuracy)\n",
            "\t2.37s\t = Training   runtime\n",
            "\t0.02s\t = Validation runtime\n",
            "Fitting model: NeuralNetTorch_BAG_L2 ... Training model for up to 56.87s of the 56.83s of remaining time.\n",
            "\tFitting 8 child models (S1F1 - S1F8) | Fitting with SequentialLocalFoldFittingStrategy (sequential: cpus=1, gpus=0)\n",
            "\t0.8029\t = Validation score   (accuracy)\n",
            "\t10.32s\t = Training   runtime\n",
            "\t0.06s\t = Validation runtime\n",
            "Fitting model: LightGBMLarge_BAG_L2 ... Training model for up to 46.43s of the 46.39s of remaining time.\n",
            "\tFitting 8 child models (S1F1 - S1F8) | Fitting with SequentialLocalFoldFittingStrategy (sequential: cpus=1, gpus=0)\n",
            "\t0.7899\t = Validation score   (accuracy)\n",
            "\t9.95s\t = Training   runtime\n",
            "\t0.02s\t = Validation runtime\n",
            "Fitting model: CatBoost_r177_BAG_L2 ... Training model for up to 35.91s of the 35.87s of remaining time.\n",
            "\tFitting 8 child models (S1F1 - S1F8) | Fitting with SequentialLocalFoldFittingStrategy (sequential: cpus=1, gpus=0)\n",
            "\tWarning: Exception caused CatBoost_r177_BAG_L2 to fail during training (ImportError)... Skipping this model.\n",
            "\t\t`import catboost` failed. A quick tip is to install via `pip install autogluon.tabular[catboost]==1.4.0`.\n",
            "Fitting model: NeuralNetTorch_r79_BAG_L2 ... Training model for up to 35.65s of the 35.62s of remaining time.\n",
            "\tFitting 8 child models (S1F1 - S1F8) | Fitting with SequentialLocalFoldFittingStrategy (sequential: cpus=1, gpus=0)\n",
            "\t0.8078\t = Validation score   (accuracy)\n",
            "\t13.08s\t = Training   runtime\n",
            "\t0.06s\t = Validation runtime\n",
            "Fitting model: LightGBM_r131_BAG_L2 ... Training model for up to 22.44s of the 22.40s of remaining time.\n",
            "\tFitting 8 child models (S1F1 - S1F8) | Fitting with SequentialLocalFoldFittingStrategy (sequential: cpus=1, gpus=0)\n",
            "\t0.8208\t = Validation score   (accuracy)\n",
            "\t3.69s\t = Training   runtime\n",
            "\t0.02s\t = Validation runtime\n",
            "Fitting model: NeuralNetFastAI_r191_BAG_L2 ... Training model for up to 18.61s of the 18.58s of remaining time.\n",
            "\tFitting 8 child models (S1F1 - S1F8) | Fitting with SequentialLocalFoldFittingStrategy (sequential: cpus=1, gpus=0)\n",
            "No improvement since epoch 5: early stopping\n",
            "No improvement since epoch 4: early stopping\n",
            "No improvement since epoch 14: early stopping\n",
            "No improvement since epoch 0: early stopping\n",
            "No improvement since epoch 16: early stopping\n",
            "No improvement since epoch 7: early stopping\n",
            "No improvement since epoch 3: early stopping\n",
            "No improvement since epoch 5: early stopping\n",
            "\t0.785\t = Validation score   (accuracy)\n",
            "\t9.9s\t = Training   runtime\n",
            "\t0.05s\t = Validation runtime\n",
            "Fitting model: CatBoost_r9_BAG_L2 ... Training model for up to 8.56s of the 8.52s of remaining time.\n",
            "\tFitting 8 child models (S1F1 - S1F8) | Fitting with SequentialLocalFoldFittingStrategy (sequential: cpus=1, gpus=0)\n",
            "\tWarning: Exception caused CatBoost_r9_BAG_L2 to fail during training (ImportError)... Skipping this model.\n",
            "\t\t`import catboost` failed. A quick tip is to install via `pip install autogluon.tabular[catboost]==1.4.0`.\n",
            "Fitting model: LightGBM_r96_BAG_L2 ... Training model for up to 8.29s of the 8.25s of remaining time.\n",
            "\tFitting 8 child models (S1F1 - S1F8) | Fitting with SequentialLocalFoldFittingStrategy (sequential: cpus=1, gpus=0)\n",
            "\t0.8111\t = Validation score   (accuracy)\n",
            "\t2.34s\t = Training   runtime\n",
            "\t0.01s\t = Validation runtime\n",
            "Fitting model: NeuralNetTorch_r22_BAG_L2 ... Training model for up to 5.87s of the 5.83s of remaining time.\n",
            "\tFitting 8 child models (S1F1 - S1F8) | Fitting with SequentialLocalFoldFittingStrategy (sequential: cpus=1, gpus=0)\n",
            "\tRan out of time, stopping training early. (Stopping on epoch 10)\n",
            "\tRan out of time, stopping training early. (Stopping on epoch 11)\n",
            "\tRan out of time, stopping training early. (Stopping on epoch 11)\n",
            "\tRan out of time, stopping training early. (Stopping on epoch 12)\n",
            "\tRan out of time, stopping training early. (Stopping on epoch 12)\n",
            "\tRan out of time, stopping training early. (Stopping on epoch 10)\n",
            "\tRan out of time, stopping training early. (Stopping on epoch 10)\n",
            "\tRan out of time, stopping training early. (Stopping on epoch 12)\n",
            "\t0.8078\t = Validation score   (accuracy)\n",
            "\t5.47s\t = Training   runtime\n",
            "\t0.08s\t = Validation runtime\n",
            "Fitting model: WeightedEnsemble_L3 ... Training model for up to 222.03s of the 0.07s of remaining time.\n",
            "\tEnsemble Weights: {'LightGBM_BAG_L2': 1.0}\n",
            "\t0.8241\t = Validation score   (accuracy)\n",
            "\t0.08s\t = Training   runtime\n",
            "\t0.0s\t = Validation runtime\n",
            "AutoGluon training complete, total runtime = 222.14s ... Best model: WeightedEnsemble_L3 | Estimated inference throughput: 351.5 rows/s (77 batch size)\n",
            "Disabling decision threshold calibration for metric `accuracy` due to having fewer than 10000 rows of validation data for calibration, to avoid overfitting (614 rows).\n",
            "\t`accuracy` is generally not improved through threshold calibration. Force calibration via specifying `calibrate_decision_threshold=True`.\n",
            "TabularPredictor saved. To load, use: predictor = TabularPredictor.load(\"/content/autogluon_models\")\n"
          ]
        },
        {
          "output_type": "execute_result",
          "data": {
            "text/plain": [
              "<autogluon.tabular.predictor.predictor.TabularPredictor at 0x7c3850e96f90>"
            ]
          },
          "metadata": {},
          "execution_count": 13
        }
      ]
    },
    {
      "cell_type": "markdown",
      "source": [
        "### Evaluar con test"
      ],
      "metadata": {
        "id": "0_5Ja2l0e8P1"
      }
    },
    {
      "cell_type": "code",
      "source": [
        "ag_preds = predictor.predict(test_data)\n",
        "ag_acc = accuracy_score(test_data[\"Outcome\"], ag_preds)\n",
        "print(f\"AutoGluon Accuracy: {ag_acc:.4f}\")"
      ],
      "metadata": {
        "colab": {
          "base_uri": "https://localhost:8080/"
        },
        "id": "KqYu2ijMe-Zv",
        "outputId": "682c7ead-d7a2-4bc9-aba9-8ea15c6efabc"
      },
      "execution_count": 15,
      "outputs": [
        {
          "output_type": "stream",
          "name": "stdout",
          "text": [
            "AutoGluon Accuracy: 0.7468\n"
          ]
        }
      ]
    },
    {
      "cell_type": "markdown",
      "source": [
        "### modelo base (regresión logística)"
      ],
      "metadata": {
        "id": "_2dvqgWofL7a"
      }
    },
    {
      "cell_type": "code",
      "source": [
        "# Entrenamiento del modelo base (Regresión Logística)\n",
        "baseline_model = LogisticRegression(random_state=42, max_iter=1000)\n",
        "baseline_model.fit(X_train, y_train)\n",
        "\n",
        "# Predicciones del modelo base\n",
        "baseline_predictions = baseline_model.predict(X_test)\n",
        "baseline_accuracy = accuracy_score(y_test, baseline_predictions)\n",
        "\n",
        "print(f\"Logistic Regression Accuracy:: {baseline_accuracy:.4f}\")"
      ],
      "metadata": {
        "colab": {
          "base_uri": "https://localhost:8080/"
        },
        "id": "_DH1NS8EfPV_",
        "outputId": "a2a5dbc9-7c32-4e19-def5-c6d065d84770"
      },
      "execution_count": 16,
      "outputs": [
        {
          "output_type": "stream",
          "name": "stdout",
          "text": [
            "Logistic Regression Accuracy:: 0.7143\n"
          ]
        }
      ]
    },
    {
      "cell_type": "code",
      "source": [
        "cm = confusion_matrix(y_test, baseline_predictions)\n",
        "plt.figure(figsize=(5,4))\n",
        "sns.heatmap(cm, annot=True, fmt='d', cmap='Blues')\n",
        "plt.xlabel('Predicho')\n",
        "plt.ylabel('Real')\n",
        "plt.title('Matriz de Confusión')\n",
        "plt.show()"
      ],
      "metadata": {
        "colab": {
          "base_uri": "https://localhost:8080/",
          "height": 410
        },
        "id": "fp5__ZxciRFa",
        "outputId": "76801c46-b309-45ab-8135-63b67db76883"
      },
      "execution_count": 17,
      "outputs": [
        {
          "output_type": "display_data",
          "data": {
            "text/plain": [
              "<Figure size 500x400 with 2 Axes>"
            ],
            "image/png": "[encoded data removed]"
          },
          "metadata": {}
        }
      ]
    },
    {
      "cell_type": "markdown",
      "source": [
        "## Verficar importancia de características"
      ],
      "metadata": {
        "id": "DF_3wwxXe_Iv"
      }
    },
    {
      "cell_type": "code",
      "source": [
        "# Obtener importancia de características\n",
        "feature_importance = predictor.feature_importance(test_data)\n",
        "print(\"Importancia de Características:\")\n",
        "print(feature_importance)"
      ],
      "metadata": {
        "colab": {
          "base_uri": "https://localhost:8080/"
        },
        "id": "_KtoVwsEfG4V",
        "outputId": "5de6d152-ea48-4d6c-812d-c127c0fea97b"
      },
      "execution_count": 20,
      "outputs": [
        {
          "output_type": "stream",
          "name": "stderr",
          "text": [
            "Computing feature importance via permutation shuffling for 8 features using 154 rows with 5 shuffle sets...\n",
            "\t22.01s\t= Expected runtime (4.4s per shuffle set)\n",
            "\t5.16s\t= Actual runtime (Completed 5 of 5 shuffle sets)\n"
          ]
        },
        {
          "output_type": "stream",
          "name": "stdout",
          "text": [
            "Importancia de Características:\n",
            "                            importance    stddev  ...  p99_high   p99_low\n",
            "Glucose                   1.064935e-01  0.048723  ...  0.206815  0.006172\n",
            "BMI                       3.116883e-02  0.009631  ...  0.051000  0.011338\n",
            "Age                       2.727273e-02  0.016808  ...  0.061881 -0.007335\n",
            "BloodPressure             2.207792e-02  0.018708  ...  0.060597 -0.016441\n",
            "Pregnancies               5.194805e-03  0.019153  ...  0.044631 -0.034242\n",
            "DiabetesPedigreeFunction -4.440892e-17  0.014520  ...  0.029897 -0.029897\n",
            "SkinThickness            -3.896104e-03  0.008712  ...  0.014042 -0.021834\n",
            "Insulin                  -5.194805e-03  0.005433  ...  0.005992 -0.016381\n",
            "\n",
            "[8 rows x 6 columns]\n"
          ]
        }
      ]
    },
    {
      "cell_type": "code",
      "source": [
        "# Visualización de importancia de características\n",
        "plt.figure(figsize=(10, 6))\n",
        "plt.barh(range(len(feature_importance)), feature_importance['importance'])\n",
        "plt.yticks(range(len(feature_importance)), feature_importance.index)\n",
        "plt.xlabel('Importancia')\n",
        "plt.title('Importancia de Características - AutoGluon')\n",
        "plt.tight_layout()\n",
        "plt.show()"
      ],
      "metadata": {
        "colab": {
          "base_uri": "https://localhost:8080/",
          "height": 607
        },
        "id": "mEEz0kQovTFx",
        "outputId": "e119dffe-b466-41a3-a8e9-5d651e1571e9"
      },
      "execution_count": 24,
      "outputs": [
        {
          "output_type": "display_data",
          "data": {
            "text/plain": [
              "<Figure size 1000x600 with 1 Axes>"
            ],
            "image/png": "[encoded data removed]"
          },
          "metadata": {}
        }
      ]
    },
    {
      "cell_type": "markdown",
      "source": [
        "## Evaluación del modelo"
      ],
      "metadata": {
        "id": "lZaAxyE9gTsY"
      }
    },
    {
      "cell_type": "markdown",
      "source": [
        "### Tabla de clasificación"
      ],
      "metadata": {
        "id": "oSx1kJwUggjs"
      }
    },
    {
      "cell_type": "code",
      "source": [
        "# Obtener el leaderboard de modelos\n",
        "leaderboard = predictor.leaderboard(test_data, silent=True)\n",
        "print(\"Tabla de los Mejores Modelos:\")\n",
        "print(leaderboard)"
      ],
      "metadata": {
        "colab": {
          "base_uri": "https://localhost:8080/"
        },
        "id": "SIksAWUcg9qy",
        "outputId": "31d97f15-febf-43c1-f9ad-a678f95bec58"
      },
      "execution_count": 25,
      "outputs": [
        {
          "output_type": "stream",
          "name": "stdout",
          "text": [
            "Tabla de los Mejores Modelos:\n",
            "                          model  score_test  ...  can_infer fit_order\n",
            "0               LightGBM_BAG_L1    0.766234  ...       True         2\n",
            "1            XGBoost_r89_BAG_L1    0.766234  ...       True        22\n",
            "2                XGBoost_BAG_L1    0.759740  ...       True         8\n",
            "3       RandomForestEntr_BAG_L1    0.753247  ...       True         4\n",
            "4      RandomForest_r195_BAG_L1    0.753247  ...       True        19\n",
            "5       RandomForestEntr_BAG_L2    0.753247  ...       True        28\n",
            "6       RandomForestGini_BAG_L1    0.746753  ...       True         3\n",
            "7            XGBoost_r33_BAG_L1    0.746753  ...       True        16\n",
            "8               LightGBM_BAG_L2    0.746753  ...       True        26\n",
            "9           WeightedEnsemble_L3    0.746753  ...       True        40\n",
            "10         LightGBM_r131_BAG_L2    0.746753  ...       True        36\n",
            "11      RandomForestGini_BAG_L2    0.746753  ...       True        27\n",
            "12         LightGBMLarge_BAG_L2    0.746753  ...       True        34\n",
            "13            LightGBMXT_BAG_L1    0.740260  ...       True         1\n",
            "14         LightGBM_r131_BAG_L1    0.740260  ...       True        12\n",
            "15  NeuralNetFastAI_r145_BAG_L1    0.740260  ...       True        21\n",
            "16        ExtraTrees_r42_BAG_L1    0.740260  ...       True        17\n",
            "17            LightGBMXT_BAG_L2    0.740260  ...       True        25\n",
            "18          LightGBM_r96_BAG_L2    0.740260  ...       True        38\n",
            "19               XGBoost_BAG_L2    0.740260  ...       True        32\n",
            "20          LightGBM_r96_BAG_L1    0.733766  ...       True        14\n",
            "21  NeuralNetFastAI_r191_BAG_L1    0.733766  ...       True        13\n",
            "22    NeuralNetTorch_r79_BAG_L1    0.733766  ...       True        11\n",
            "23  NeuralNetFastAI_r102_BAG_L1    0.733766  ...       True        18\n",
            "24          WeightedEnsemble_L2    0.733766  ...       True        24\n",
            "25       NeuralNetFastAI_BAG_L2    0.733766  ...       True        31\n",
            "26         LightGBM_r188_BAG_L1    0.727273  ...       True        20\n",
            "27        NeuralNetTorch_BAG_L1    0.727273  ...       True         9\n",
            "28         LightGBMLarge_BAG_L1    0.727273  ...       True        10\n",
            "29        ExtraTreesEntr_BAG_L1    0.727273  ...       True         6\n",
            "30        ExtraTreesGini_BAG_L1    0.727273  ...       True         5\n",
            "31    NeuralNetTorch_r22_BAG_L2    0.727273  ...       True        39\n",
            "32        NeuralNetTorch_BAG_L2    0.727273  ...       True        33\n",
            "33  NeuralNetFastAI_r191_BAG_L2    0.727273  ...       True        37\n",
            "34    NeuralNetTorch_r79_BAG_L2    0.727273  ...       True        35\n",
            "35        ExtraTreesEntr_BAG_L2    0.720779  ...       True        30\n",
            "36        ExtraTreesGini_BAG_L2    0.720779  ...       True        29\n",
            "37       NeuralNetFastAI_BAG_L1    0.714286  ...       True         7\n",
            "38    NeuralNetTorch_r22_BAG_L1    0.714286  ...       True        15\n",
            "39    NeuralNetTorch_r30_BAG_L1    0.707792  ...       True        23\n",
            "\n",
            "[40 rows x 13 columns]\n"
          ]
        }
      ]
    },
    {
      "cell_type": "markdown",
      "source": [
        "### Mejor modelo"
      ],
      "metadata": {
        "id": "tqqL__MtgxOb"
      }
    },
    {
      "cell_type": "code",
      "source": [
        "# Identificar el mejor modelo\n",
        "best_model = leaderboard.iloc[0]['model']\n",
        "print(f\"\\nMejor modelo: {best_model}\")\n",
        "print(f\"Accuracy del mejor modelo: {leaderboard.iloc[0]['score_val']:.4f}\")"
      ],
      "metadata": {
        "colab": {
          "base_uri": "https://localhost:8080/"
        },
        "id": "DAiJe7TzhIMF",
        "outputId": "6a938ca8-bb1d-42e7-db75-cadbebec46bc"
      },
      "execution_count": 26,
      "outputs": [
        {
          "output_type": "stream",
          "name": "stdout",
          "text": [
            "\n",
            "Mejor modelo: LightGBM_BAG_L1\n",
            "Accuracy del mejor modelo: 0.7866\n"
          ]
        }
      ]
    },
    {
      "cell_type": "code",
      "source": [
        "y_true = test_data[\"Outcome\"]\n",
        "y_pred = predictor.predict(test_data, model=best_model)\n",
        "y_prob = predictor.predict_proba(test_data, model=best_model)[1]  # probabilidad de clase positiva"
      ],
      "metadata": {
        "id": "IOJFKQ_PhKDt"
      },
      "execution_count": 28,
      "outputs": []
    },
    {
      "cell_type": "code",
      "source": [
        "cm = confusion_matrix(y_true, y_pred)\n",
        "plt.figure(figsize=(5,4))\n",
        "sns.heatmap(cm, annot=True, fmt='d', cmap='Blues')\n",
        "plt.xlabel('Predicho')\n",
        "plt.ylabel('Real')\n",
        "plt.title('Matriz de Confusión')\n",
        "plt.show()"
      ],
      "metadata": {
        "colab": {
          "base_uri": "https://localhost:8080/",
          "height": 410
        },
        "id": "bZhiFnz7hQEG",
        "outputId": "8d9a2147-3ae2-4112-e700-d93c9f43790f"
      },
      "execution_count": 29,
      "outputs": [
        {
          "output_type": "display_data",
          "data": {
            "text/plain": [
              "<Figure size 500x400 with 2 Axes>"
            ],
            "image/png": "[encoded data removed]"
          },
          "metadata": {}
        }
      ]
    },
    {
      "cell_type": "markdown",
      "source": [
        "### Métricas adicionales"
      ],
      "metadata": {
        "id": "AK_NKkQDgzJ-"
      }
    },
    {
      "cell_type": "code",
      "source": [
        "report = classification_report(y_true, y_pred, digits=4)\n",
        "print(\"Reporte de Precisión, Recall y F1-score:\\n\")\n",
        "print(report)"
      ],
      "metadata": {
        "colab": {
          "base_uri": "https://localhost:8080/"
        },
        "id": "TRHi1Qmwhko8",
        "outputId": "c8ab6ff6-01a4-4132-9d4a-3cd326595513"
      },
      "execution_count": 30,
      "outputs": [
        {
          "output_type": "stream",
          "name": "stdout",
          "text": [
            "Reporte de Precisión, Recall y F1-score:\n",
            "\n",
            "              precision    recall  f1-score   support\n",
            "\n",
            "           0     0.7909    0.8700    0.8286       100\n",
            "           1     0.7045    0.5741    0.6327        54\n",
            "\n",
            "    accuracy                         0.7662       154\n",
            "   macro avg     0.7477    0.7220    0.7306       154\n",
            "weighted avg     0.7606    0.7662    0.7599       154\n",
            "\n"
          ]
        }
      ]
    },
    {
      "cell_type": "markdown",
      "source": [
        "### curva ROC y AUC"
      ],
      "metadata": {
        "id": "qM4lGrxug4Is"
      }
    },
    {
      "cell_type": "code",
      "source": [
        "fpr, tpr, thresholds = roc_curve(y_true, y_prob)\n",
        "roc_auc = auc(fpr, tpr)\n",
        "\n",
        "plt.figure(figsize=(6,5))\n",
        "plt.plot(fpr, tpr, color='darkorange', lw=2, label=f'ROC curve (AUC = {roc_auc:.4f})')\n",
        "plt.plot([0, 1], [0, 1], color='navy', lw=1, linestyle='--')\n",
        "plt.xlim([0.0, 1.0])\n",
        "plt.ylim([0.0, 1.05])\n",
        "plt.xlabel('False Positive Rate')\n",
        "plt.ylabel('True Positive Rate')\n",
        "plt.title('Curva ROC')\n",
        "plt.legend(loc=\"lower right\")\n",
        "plt.show()"
      ],
      "metadata": {
        "colab": {
          "base_uri": "https://localhost:8080/",
          "height": 487
        },
        "id": "go54e9oOhmTr",
        "outputId": "fbec78fa-9851-481b-80a4-458fc4cd2ac3"
      },
      "execution_count": 31,
      "outputs": [
        {
          "output_type": "display_data",
          "data": {
            "text/plain": [
              "<Figure size 600x500 with 1 Axes>"
            ],
            "image/png": "[encoded data removed]"
          },
          "metadata": {}
        }
      ]
    }
  ]
}