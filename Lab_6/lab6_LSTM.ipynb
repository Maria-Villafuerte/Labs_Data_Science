{
  "nbformat": 4,
  "nbformat_minor": 0,
  "metadata": {
    "colab": {
      "provenance": [],
      "gpuType": "T4"
    },
    "kernelspec": {
      "name": "python3",
      "display_name": "Python 3"
    },
    "language_info": {
      "name": "python"
    },
    "accelerator": "GPU"
  },
  "cells": [
    {
      "cell_type": "markdown",
      "source": [
        "# Laboratorio: Mejorando el Análisis de Sentimientos con LSTM y Características Adicionales"
      ],
      "metadata": {
        "id": "Qbt3v4roV8gl"
      }
    },
    {
      "cell_type": "code",
      "execution_count": 1,
      "metadata": {
        "id": "ILxDtHKAVrn-"
      },
      "outputs": [],
      "source": [
        "import tensorflow as tf\n",
        "from tensorflow.keras.preprocessing import sequence\n",
        "from tensorflow.keras.models import Sequential\n",
        "from tensorflow.keras.layers import Dense, Embedding\n",
        "from tensorflow.keras.layers import LSTM\n",
        "from tensorflow.keras.datasets import imdb"
      ]
    },
    {
      "cell_type": "markdown",
      "source": [
        "## Carga de datos"
      ],
      "metadata": {
        "id": "qgcM2LOmV1Po"
      }
    },
    {
      "cell_type": "code",
      "source": [
        "print('Cargando los datos...')\n",
        "(X_train, y_train), (X_test, y_test) = imdb.load_data(num_words=50000)"
      ],
      "metadata": {
        "colab": {
          "base_uri": "https://localhost:8080/"
        },
        "id": "_W4FSkiVV3em",
        "outputId": "123266c1-3fd5-48f3-9796-150fcc5da364"
      },
      "execution_count": 2,
      "outputs": [
        {
          "output_type": "stream",
          "name": "stdout",
          "text": [
            "Cargando los datos...\n",
            "Downloading data from https://storage.googleapis.com/tensorflow/tf-keras-datasets/imdb.npz\n",
            "\u001b[1m17464789/17464789\u001b[0m \u001b[32m━━━━━━━━━━━━━━━━━━━━\u001b[0m\u001b[37m\u001b[0m \u001b[1m2s\u001b[0m 0us/step\n"
          ]
        }
      ]
    },
    {
      "cell_type": "markdown",
      "source": [
        "## Pre-procesamiento"
      ],
      "metadata": {
        "id": "xyapbVL9WGKQ"
      }
    },
    {
      "cell_type": "code",
      "source": [
        "X_train = sequence.pad_sequences(X_train, maxlen = 80)\n",
        "X_test = sequence.pad_sequences(X_test, maxlen = 80)"
      ],
      "metadata": {
        "id": "qGvkCceWWF0p"
      },
      "execution_count": 3,
      "outputs": []
    },
    {
      "cell_type": "markdown",
      "source": [
        "## Modelo"
      ],
      "metadata": {
        "id": "XoTEqnYEXZ5H"
      }
    },
    {
      "cell_type": "code",
      "source": [
        "modelo = Sequential()\n",
        "modelo.add(Embedding(20000, 128))\n",
        "modelo.add(LSTM(128, dropout=0.2, recurrent_dropout=0.2)) # Dropout, en la capa de entrada. Recurrent_dropout, en las capas recurrentes\n",
        "modelo.add(Dense(1, activation='sigmoid'))"
      ],
      "metadata": {
        "id": "tgElpwBOXcma"
      },
      "execution_count": 4,
      "outputs": []
    },
    {
      "cell_type": "code",
      "source": [
        "modelo.compile(loss='binary_crossentropy',\n",
        "              optimizer='adam',\n",
        "              metrics=['accuracy'])"
      ],
      "metadata": {
        "id": "yYFGajD2Xfy9"
      },
      "execution_count": 5,
      "outputs": []
    },
    {
      "cell_type": "markdown",
      "source": [
        "## Entrenamiento y evaluación"
      ],
      "metadata": {
        "id": "IkupmfIpXyV1"
      }
    },
    {
      "cell_type": "code",
      "source": [
        "# Agregar detención temprana para monitorear el entrenamiento\n",
        "detencion_temprana = tf.keras.callbacks.EarlyStopping(\n",
        "    monitor = 'val_loss',\n",
        "    patience = 3,\n",
        "    verbose = 1\n",
        ")"
      ],
      "metadata": {
        "id": "W4KH36zuYKpr"
      },
      "execution_count": 7,
      "outputs": []
    },
    {
      "cell_type": "code",
      "source": [
        "historia = modelo.fit(\n",
        "    X_train,\n",
        "    y_train,\n",
        "    batch_size = 64,\n",
        "    epochs = 15,\n",
        "    verbose = 1,\n",
        "    validation_data = (X_test, y_test),\n",
        "    callbacks = [detencion_temprana]\n",
        ")"
      ],
      "metadata": {
        "colab": {
          "base_uri": "https://localhost:8080/"
        },
        "id": "QwU6a3UEYNZJ",
        "outputId": "9956554a-82c7-4601-e316-180b6a37d442"
      },
      "execution_count": 8,
      "outputs": [
        {
          "output_type": "stream",
          "name": "stdout",
          "text": [
            "Epoch 1/15\n",
            "\u001b[1m391/391\u001b[0m \u001b[32m━━━━━━━━━━━━━━━━━━━━\u001b[0m\u001b[37m\u001b[0m \u001b[1m127s\u001b[0m 299ms/step - accuracy: 0.7004 - loss: 0.5463 - val_accuracy: 0.8346 - val_loss: 0.3744\n",
            "Epoch 2/15\n",
            "\u001b[1m391/391\u001b[0m \u001b[32m━━━━━━━━━━━━━━━━━━━━\u001b[0m\u001b[37m\u001b[0m \u001b[1m120s\u001b[0m 308ms/step - accuracy: 0.8798 - loss: 0.2967 - val_accuracy: 0.8369 - val_loss: 0.3831\n",
            "Epoch 3/15\n",
            "\u001b[1m391/391\u001b[0m \u001b[32m━━━━━━━━━━━━━━━━━━━━\u001b[0m\u001b[37m\u001b[0m \u001b[1m138s\u001b[0m 298ms/step - accuracy: 0.9186 - loss: 0.2136 - val_accuracy: 0.8334 - val_loss: 0.4370\n",
            "Epoch 4/15\n",
            "\u001b[1m391/391\u001b[0m \u001b[32m━━━━━━━━━━━━━━━━━━━━\u001b[0m\u001b[37m\u001b[0m \u001b[1m147s\u001b[0m 310ms/step - accuracy: 0.9420 - loss: 0.1579 - val_accuracy: 0.8287 - val_loss: 0.4852\n",
            "Epoch 4: early stopping\n"
          ]
        }
      ]
    },
    {
      "cell_type": "code",
      "source": [
        "# Después del entrenamiento se puede revisar el historial\n",
        "print(historia.history.keys())"
      ],
      "metadata": {
        "colab": {
          "base_uri": "https://localhost:8080/"
        },
        "id": "ofB6HKT-YTuj",
        "outputId": "6a79559f-5d96-4f8c-9e52-0f5ad50fc961"
      },
      "execution_count": 9,
      "outputs": [
        {
          "output_type": "stream",
          "name": "stdout",
          "text": [
            "dict_keys(['accuracy', 'loss', 'val_accuracy', 'val_loss'])\n"
          ]
        }
      ]
    },
    {
      "cell_type": "code",
      "source": [
        "perdida, exactitud = modelo.evaluate(X_test, y_test,\n",
        "                            batch_size = 64,\n",
        "                            verbose = 2)\n",
        "print('Pérdida de la Prueba:', perdida)\n",
        "print('Exactitud de la Prueba (Test accuracy):', exactitud)"
      ],
      "metadata": {
        "colab": {
          "base_uri": "https://localhost:8080/"
        },
        "id": "xEcLhXSaYVMv",
        "outputId": "4891c2a9-a382-46f2-fe3a-6bacc7a44aa6"
      },
      "execution_count": 10,
      "outputs": [
        {
          "output_type": "stream",
          "name": "stdout",
          "text": [
            "391/391 - 18s - 45ms/step - accuracy: 0.8287 - loss: 0.4852\n",
            "Pérdida de la Prueba: 0.4851527214050293\n",
            "Exactitud de la Prueba (Test accuracy): 0.828719973564148\n"
          ]
        }
      ]
    }
  ]
}