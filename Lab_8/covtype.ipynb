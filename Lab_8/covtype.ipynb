{
  "cells": [
    {
      "cell_type": "markdown",
      "id": "4b1a83a9",
      "metadata": {
        "id": "4b1a83a9"
      },
      "source": [
        "# Laboratorio 7. Autoencoder, Isolation Forest y LOF"
      ]
    },
    {
      "cell_type": "code",
      "execution_count": 1,
      "id": "5b067472",
      "metadata": {
        "id": "5b067472"
      },
      "outputs": [],
      "source": [
        "from sklearn.datasets import fetch_covtype\n",
        "import pandas as pd\n",
        "from sklearn.preprocessing import StandardScaler\n",
        "import numpy as np"
      ]
    },
    {
      "cell_type": "markdown",
      "id": "c07166ec",
      "metadata": {
        "id": "c07166ec"
      },
      "source": [
        "## Carga de los datos"
      ]
    },
    {
      "cell_type": "code",
      "execution_count": 2,
      "id": "b21d270d",
      "metadata": {
        "colab": {
          "base_uri": "https://localhost:8080/"
        },
        "id": "b21d270d",
        "outputId": "50b03b2b-fe64-43f9-a831-f63ad88730c4"
      },
      "outputs": [
        {
          "name": "stdout",
          "output_type": "stream",
          "text": [
            "(581012, 54)\n",
            "   Elevation  Aspect  Slope  Horizontal_Distance_To_Hydrology  \\\n",
            "0     2596.0    51.0    3.0                             258.0   \n",
            "1     2590.0    56.0    2.0                             212.0   \n",
            "2     2804.0   139.0    9.0                             268.0   \n",
            "3     2785.0   155.0   18.0                             242.0   \n",
            "4     2595.0    45.0    2.0                             153.0   \n",
            "\n",
            "   Vertical_Distance_To_Hydrology  Horizontal_Distance_To_Roadways  \\\n",
            "0                             0.0                            510.0   \n",
            "1                            -6.0                            390.0   \n",
            "2                            65.0                           3180.0   \n",
            "3                           118.0                           3090.0   \n",
            "4                            -1.0                            391.0   \n",
            "\n",
            "   Hillshade_9am  Hillshade_Noon  Hillshade_3pm  \\\n",
            "0          221.0           232.0          148.0   \n",
            "1          220.0           235.0          151.0   \n",
            "2          234.0           238.0          135.0   \n",
            "3          238.0           238.0          122.0   \n",
            "4          220.0           234.0          150.0   \n",
            "\n",
            "   Horizontal_Distance_To_Fire_Points  ...  Soil_Type_30  Soil_Type_31  \\\n",
            "0                              6279.0  ...           0.0           0.0   \n",
            "1                              6225.0  ...           0.0           0.0   \n",
            "2                              6121.0  ...           0.0           0.0   \n",
            "3                              6211.0  ...           0.0           0.0   \n",
            "4                              6172.0  ...           0.0           0.0   \n",
            "\n",
            "   Soil_Type_32  Soil_Type_33  Soil_Type_34  Soil_Type_35  Soil_Type_36  \\\n",
            "0           0.0           0.0           0.0           0.0           0.0   \n",
            "1           0.0           0.0           0.0           0.0           0.0   \n",
            "2           0.0           0.0           0.0           0.0           0.0   \n",
            "3           0.0           0.0           0.0           0.0           0.0   \n",
            "4           0.0           0.0           0.0           0.0           0.0   \n",
            "\n",
            "   Soil_Type_37  Soil_Type_38  Soil_Type_39  \n",
            "0           0.0           0.0           0.0  \n",
            "1           0.0           0.0           0.0  \n",
            "2           0.0           0.0           0.0  \n",
            "3           0.0           0.0           0.0  \n",
            "4           0.0           0.0           0.0  \n",
            "\n",
            "[5 rows x 54 columns]\n",
            "Cover_Type\n",
            "2    283301\n",
            "1    211840\n",
            "3     35754\n",
            "7     20510\n",
            "6     17367\n",
            "5      9493\n",
            "4      2747\n",
            "Name: count, dtype: int64\n"
          ]
        }
      ],
      "source": [
        "# Cargar dataset\n",
        "covtype = fetch_covtype(as_frame=True)  # lo pedimos como DataFrame\n",
        "X = covtype.data\n",
        "y = covtype.target  # Cover_Type original (1–7)\n",
        "\n",
        "# Revisar estructura\n",
        "print(X.shape)\n",
        "print(X.head())\n",
        "print(y.value_counts())"
      ]
    },
    {
      "cell_type": "markdown",
      "id": "9e6503f4",
      "metadata": {
        "id": "9e6503f4"
      },
      "source": [
        "## Escalar datos"
      ]
    },
    {
      "cell_type": "code",
      "execution_count": 3,
      "id": "b4c2c14f",
      "metadata": {
        "id": "b4c2c14f"
      },
      "outputs": [],
      "source": [
        "# Separar numéricas y binarias\n",
        "X_num = X.iloc[:, :10]     # primeras 10 columnas numéricas\n",
        "X_bin = X.iloc[:, 10:]     # resto: binarias (0/1)\n",
        "\n",
        "# Escalar numéricas\n",
        "scaler = StandardScaler()\n",
        "X_num_scaled = pd.DataFrame(scaler.fit_transform(X_num), columns=X_num.columns)\n",
        "\n",
        "# Unir de nuevo\n",
        "X_scaled = pd.concat([X_num_scaled, X_bin], axis=1)"
      ]
    },
    {
      "cell_type": "markdown",
      "id": "fe905712",
      "metadata": {
        "id": "fe905712"
      },
      "source": [
        "## Etiquetar"
      ]
    },
    {
      "cell_type": "code",
      "execution_count": 4,
      "id": "60b8ebc5",
      "metadata": {
        "colab": {
          "base_uri": "https://localhost:8080/",
          "height": 147
        },
        "id": "60b8ebc5",
        "outputId": "f25d8b25-7f80-4d19-e224-a0892470aec2"
      },
      "outputs": [
        {
          "data": {
            "text/html": [
              "<div>\n",
              "<style scoped>\n",
              "    .dataframe tbody tr th:only-of-type {\n",
              "        vertical-align: middle;\n",
              "    }\n",
              "\n",
              "    .dataframe tbody tr th {\n",
              "        vertical-align: top;\n",
              "    }\n",
              "\n",
              "    .dataframe thead th {\n",
              "        text-align: right;\n",
              "    }\n",
              "</style>\n",
              "<table border=\"1\" class=\"dataframe\">\n",
              "  <thead>\n",
              "    <tr style=\"text-align: right;\">\n",
              "      <th></th>\n",
              "      <th>count</th>\n",
              "    </tr>\n",
              "  </thead>\n",
              "  <tbody>\n",
              "    <tr>\n",
              "      <th>0</th>\n",
              "      <td>297711</td>\n",
              "    </tr>\n",
              "    <tr>\n",
              "      <th>1</th>\n",
              "      <td>283301</td>\n",
              "    </tr>\n",
              "  </tbody>\n",
              "</table>\n",
              "</div><br><label><b>dtype:</b> int64</label>"
            ],
            "text/plain": [
              "0    297711\n",
              "1    283301\n",
              "Name: count, dtype: int64"
            ]
          },
          "execution_count": 4,
          "metadata": {},
          "output_type": "execute_result"
        }
      ],
      "source": [
        "y_binary = np.where(y == 2, 1, 0)  # 1 = normal, 0 = anómalo\n",
        "\n",
        "# Revisar proporción\n",
        "pd.Series(y_binary).value_counts()"
      ]
    },
    {
      "cell_type": "markdown",
      "id": "TM2kSGjJfBHy",
      "metadata": {
        "id": "TM2kSGjJfBHy"
      },
      "source": [
        "## Autocodificador"
      ]
    },
    {
      "cell_type": "markdown",
      "id": "LmI_pgVBf-We",
      "metadata": {
        "id": "LmI_pgVBf-We"
      },
      "source": [
        "### División train/val/test"
      ]
    },
    {
      "cell_type": "code",
      "execution_count": 6,
      "id": "m0bETgEmfA5b",
      "metadata": {
        "colab": {
          "base_uri": "https://localhost:8080/"
        },
        "id": "m0bETgEmfA5b",
        "outputId": "34c7d648-4b73-439c-9b3f-86adf07cb070"
      },
      "outputs": [
        {
          "name": "stdout",
          "output_type": "stream",
          "text": [
            "Train: (181312, 54)\n",
            "Val: (45329, 54)\n",
            "Test: (116203, 54)  (con normales y anomalías)\n"
          ]
        }
      ],
      "source": [
        "from sklearn.model_selection import train_test_split\n",
        "\n",
        "# Dividimos train+val vs test (incluyendo normales y anómalos en test)\n",
        "X_temp, X_test, y_temp, y_test = train_test_split(\n",
        "    X_scaled, y_binary, test_size=0.2, random_state=42, stratify=y_binary\n",
        ")\n",
        "\n",
        "# De X_temp nos quedamos solo con los normales (para entrenar el AE)\n",
        "X_temp_norm = X_temp[y_temp == 1]\n",
        "\n",
        "# train y val (solo normales)\n",
        "X_train, X_val = train_test_split(\n",
        "    X_temp_norm, test_size=0.2, random_state=42\n",
        ")\n",
        "\n",
        "print(\"Train:\", X_train.shape)\n",
        "print(\"Val:\", X_val.shape)\n",
        "print(\"Test:\", X_test.shape, \" (con normales y anomalías)\")"
      ]
    },
    {
      "cell_type": "markdown",
      "id": "R0HvBRqbgC1n",
      "metadata": {
        "id": "R0HvBRqbgC1n"
      },
      "source": [
        "### Modelo"
      ]
    },
    {
      "cell_type": "code",
      "execution_count": 7,
      "id": "CSkFWCQGgt4X",
      "metadata": {
        "id": "CSkFWCQGgt4X"
      },
      "outputs": [],
      "source": [
        "import tensorflow as tf\n",
        "from tensorflow import keras\n",
        "from tensorflow.keras import layers\n",
        "\n",
        "import matplotlib.pyplot as plt\n",
        "from sklearn.metrics import confusion_matrix, ConfusionMatrixDisplay, precision_recall_curve, average_precision_score, roc_curve, roc_auc_score, f1_score"
      ]
    },
    {
      "cell_type": "code",
      "execution_count": 8,
      "id": "tov2d8i8gEJA",
      "metadata": {
        "colab": {
          "base_uri": "https://localhost:8080/"
        },
        "id": "tov2d8i8gEJA",
        "outputId": "b1d98d52-96b5-4471-a4c7-ec681b7dd57d"
      },
      "outputs": [
        {
          "name": "stdout",
          "output_type": "stream",
          "text": [
            "Epoch 1/50\n",
            "\u001b[1m709/709\u001b[0m \u001b[32m━━━━━━━━━━━━━━━━━━━━\u001b[0m\u001b[37m\u001b[0m \u001b[1m7s\u001b[0m 6ms/step - loss: 0.2210 - val_loss: 0.1287\n",
            "Epoch 2/50\n",
            "\u001b[1m709/709\u001b[0m \u001b[32m━━━━━━━━━━━━━━━━━━━━\u001b[0m\u001b[37m\u001b[0m \u001b[1m2s\u001b[0m 3ms/step - loss: 0.1259 - val_loss: 0.1163\n",
            "Epoch 3/50\n",
            "\u001b[1m709/709\u001b[0m \u001b[32m━━━━━━━━━━━━━━━━━━━━\u001b[0m\u001b[37m\u001b[0m \u001b[1m2s\u001b[0m 3ms/step - loss: 0.1140 - val_loss: 0.1110\n",
            "Epoch 4/50\n",
            "\u001b[1m709/709\u001b[0m \u001b[32m━━━━━━━━━━━━━━━━━━━━\u001b[0m\u001b[37m\u001b[0m \u001b[1m2s\u001b[0m 3ms/step - loss: 0.1110 - val_loss: 0.1098\n",
            "Epoch 5/50\n",
            "\u001b[1m709/709\u001b[0m \u001b[32m━━━━━━━━━━━━━━━━━━━━\u001b[0m\u001b[37m\u001b[0m \u001b[1m2s\u001b[0m 3ms/step - loss: 0.1098 - val_loss: 0.1093\n",
            "Epoch 6/50\n",
            "\u001b[1m709/709\u001b[0m \u001b[32m━━━━━━━━━━━━━━━━━━━━\u001b[0m\u001b[37m\u001b[0m \u001b[1m2s\u001b[0m 3ms/step - loss: 0.1094 - val_loss: 0.1083\n",
            "Epoch 7/50\n",
            "\u001b[1m709/709\u001b[0m \u001b[32m━━━━━━━━━━━━━━━━━━━━\u001b[0m\u001b[37m\u001b[0m \u001b[1m2s\u001b[0m 3ms/step - loss: 0.1081 - val_loss: 0.1074\n",
            "Epoch 8/50\n",
            "\u001b[1m709/709\u001b[0m \u001b[32m━━━━━━━━━━━━━━━━━━━━\u001b[0m\u001b[37m\u001b[0m \u001b[1m2s\u001b[0m 3ms/step - loss: 0.1078 - val_loss: 0.1069\n",
            "Epoch 9/50\n",
            "\u001b[1m709/709\u001b[0m \u001b[32m━━━━━━━━━━━━━━━━━━━━\u001b[0m\u001b[37m\u001b[0m \u001b[1m2s\u001b[0m 3ms/step - loss: 0.1071 - val_loss: 0.1065\n",
            "Epoch 10/50\n",
            "\u001b[1m709/709\u001b[0m \u001b[32m━━━━━━━━━━━━━━━━━━━━\u001b[0m\u001b[37m\u001b[0m \u001b[1m2s\u001b[0m 3ms/step - loss: 0.1067 - val_loss: 0.1063\n",
            "Epoch 11/50\n",
            "\u001b[1m709/709\u001b[0m \u001b[32m━━━━━━━━━━━━━━━━━━━━\u001b[0m\u001b[37m\u001b[0m \u001b[1m2s\u001b[0m 3ms/step - loss: 0.1066 - val_loss: 0.1060\n",
            "Epoch 12/50\n",
            "\u001b[1m709/709\u001b[0m \u001b[32m━━━━━━━━━━━━━━━━━━━━\u001b[0m\u001b[37m\u001b[0m \u001b[1m3s\u001b[0m 4ms/step - loss: 0.1065 - val_loss: 0.1059\n",
            "Epoch 13/50\n",
            "\u001b[1m709/709\u001b[0m \u001b[32m━━━━━━━━━━━━━━━━━━━━\u001b[0m\u001b[37m\u001b[0m \u001b[1m2s\u001b[0m 3ms/step - loss: 0.1058 - val_loss: 0.1058\n",
            "Epoch 14/50\n",
            "\u001b[1m709/709\u001b[0m \u001b[32m━━━━━━━━━━━━━━━━━━━━\u001b[0m\u001b[37m\u001b[0m \u001b[1m2s\u001b[0m 3ms/step - loss: 0.1058 - val_loss: 0.1056\n",
            "Epoch 15/50\n",
            "\u001b[1m709/709\u001b[0m \u001b[32m━━━━━━━━━━━━━━━━━━━━\u001b[0m\u001b[37m\u001b[0m \u001b[1m2s\u001b[0m 3ms/step - loss: 0.1055 - val_loss: 0.1055\n",
            "Epoch 16/50\n",
            "\u001b[1m709/709\u001b[0m \u001b[32m━━━━━━━━━━━━━━━━━━━━\u001b[0m\u001b[37m\u001b[0m \u001b[1m2s\u001b[0m 3ms/step - loss: 0.1054 - val_loss: 0.1054\n",
            "Epoch 17/50\n",
            "\u001b[1m709/709\u001b[0m \u001b[32m━━━━━━━━━━━━━━━━━━━━\u001b[0m\u001b[37m\u001b[0m \u001b[1m2s\u001b[0m 3ms/step - loss: 0.1058 - val_loss: 0.1053\n",
            "Epoch 18/50\n",
            "\u001b[1m709/709\u001b[0m \u001b[32m━━━━━━━━━━━━━━━━━━━━\u001b[0m\u001b[37m\u001b[0m \u001b[1m3s\u001b[0m 4ms/step - loss: 0.1055 - val_loss: 0.1053\n",
            "Epoch 19/50\n",
            "\u001b[1m709/709\u001b[0m \u001b[32m━━━━━━━━━━━━━━━━━━━━\u001b[0m\u001b[37m\u001b[0m \u001b[1m2s\u001b[0m 3ms/step - loss: 0.1056 - val_loss: 0.1052\n",
            "Epoch 20/50\n",
            "\u001b[1m709/709\u001b[0m \u001b[32m━━━━━━━━━━━━━━━━━━━━\u001b[0m\u001b[37m\u001b[0m \u001b[1m2s\u001b[0m 3ms/step - loss: 0.1055 - val_loss: 0.1052\n",
            "Epoch 21/50\n",
            "\u001b[1m709/709\u001b[0m \u001b[32m━━━━━━━━━━━━━━━━━━━━\u001b[0m\u001b[37m\u001b[0m \u001b[1m2s\u001b[0m 3ms/step - loss: 0.1056 - val_loss: 0.1051\n",
            "Epoch 22/50\n",
            "\u001b[1m709/709\u001b[0m \u001b[32m━━━━━━━━━━━━━━━━━━━━\u001b[0m\u001b[37m\u001b[0m \u001b[1m2s\u001b[0m 3ms/step - loss: 0.1056 - val_loss: 0.1051\n",
            "Epoch 23/50\n",
            "\u001b[1m709/709\u001b[0m \u001b[32m━━━━━━━━━━━━━━━━━━━━\u001b[0m\u001b[37m\u001b[0m \u001b[1m2s\u001b[0m 3ms/step - loss: 0.1057 - val_loss: 0.1050\n",
            "Epoch 24/50\n",
            "\u001b[1m709/709\u001b[0m \u001b[32m━━━━━━━━━━━━━━━━━━━━\u001b[0m\u001b[37m\u001b[0m \u001b[1m3s\u001b[0m 4ms/step - loss: 0.1055 - val_loss: 0.1050\n",
            "Epoch 25/50\n",
            "\u001b[1m709/709\u001b[0m \u001b[32m━━━━━━━━━━━━━━━━━━━━\u001b[0m\u001b[37m\u001b[0m \u001b[1m2s\u001b[0m 3ms/step - loss: 0.1055 - val_loss: 0.1049\n",
            "Epoch 26/50\n",
            "\u001b[1m709/709\u001b[0m \u001b[32m━━━━━━━━━━━━━━━━━━━━\u001b[0m\u001b[37m\u001b[0m \u001b[1m2s\u001b[0m 3ms/step - loss: 0.1050 - val_loss: 0.1049\n",
            "Epoch 27/50\n",
            "\u001b[1m709/709\u001b[0m \u001b[32m━━━━━━━━━━━━━━━━━━━━\u001b[0m\u001b[37m\u001b[0m \u001b[1m2s\u001b[0m 3ms/step - loss: 0.1054 - val_loss: 0.1048\n",
            "Epoch 28/50\n",
            "\u001b[1m709/709\u001b[0m \u001b[32m━━━━━━━━━━━━━━━━━━━━\u001b[0m\u001b[37m\u001b[0m \u001b[1m2s\u001b[0m 3ms/step - loss: 0.1050 - val_loss: 0.1048\n",
            "Epoch 29/50\n",
            "\u001b[1m709/709\u001b[0m \u001b[32m━━━━━━━━━━━━━━━━━━━━\u001b[0m\u001b[37m\u001b[0m \u001b[1m2s\u001b[0m 3ms/step - loss: 0.1051 - val_loss: 0.1048\n",
            "Epoch 30/50\n",
            "\u001b[1m709/709\u001b[0m \u001b[32m━━━━━━━━━━━━━━━━━━━━\u001b[0m\u001b[37m\u001b[0m \u001b[1m3s\u001b[0m 4ms/step - loss: 0.1046 - val_loss: 0.1047\n",
            "Epoch 31/50\n",
            "\u001b[1m709/709\u001b[0m \u001b[32m━━━━━━━━━━━━━━━━━━━━\u001b[0m\u001b[37m\u001b[0m \u001b[1m2s\u001b[0m 3ms/step - loss: 0.1052 - val_loss: 0.1048\n",
            "Epoch 32/50\n",
            "\u001b[1m709/709\u001b[0m \u001b[32m━━━━━━━━━━━━━━━━━━━━\u001b[0m\u001b[37m\u001b[0m \u001b[1m2s\u001b[0m 3ms/step - loss: 0.1048 - val_loss: 0.1047\n",
            "Epoch 33/50\n",
            "\u001b[1m709/709\u001b[0m \u001b[32m━━━━━━━━━━━━━━━━━━━━\u001b[0m\u001b[37m\u001b[0m \u001b[1m2s\u001b[0m 3ms/step - loss: 0.1049 - val_loss: 0.1047\n",
            "Epoch 34/50\n",
            "\u001b[1m709/709\u001b[0m \u001b[32m━━━━━━━━━━━━━━━━━━━━\u001b[0m\u001b[37m\u001b[0m \u001b[1m2s\u001b[0m 3ms/step - loss: 0.1050 - val_loss: 0.1047\n",
            "Epoch 35/50\n",
            "\u001b[1m709/709\u001b[0m \u001b[32m━━━━━━━━━━━━━━━━━━━━\u001b[0m\u001b[37m\u001b[0m \u001b[1m2s\u001b[0m 3ms/step - loss: 0.1051 - val_loss: 0.1047\n",
            "Epoch 36/50\n",
            "\u001b[1m709/709\u001b[0m \u001b[32m━━━━━━━━━━━━━━━━━━━━\u001b[0m\u001b[37m\u001b[0m \u001b[1m3s\u001b[0m 4ms/step - loss: 0.1049 - val_loss: 0.1047\n",
            "Epoch 37/50\n",
            "\u001b[1m709/709\u001b[0m \u001b[32m━━━━━━━━━━━━━━━━━━━━\u001b[0m\u001b[37m\u001b[0m \u001b[1m2s\u001b[0m 3ms/step - loss: 0.1050 - val_loss: 0.1047\n",
            "Epoch 38/50\n",
            "\u001b[1m709/709\u001b[0m \u001b[32m━━━━━━━━━━━━━━━━━━━━\u001b[0m\u001b[37m\u001b[0m \u001b[1m2s\u001b[0m 3ms/step - loss: 0.1052 - val_loss: 0.1047\n",
            "Epoch 39/50\n",
            "\u001b[1m709/709\u001b[0m \u001b[32m━━━━━━━━━━━━━━━━━━━━\u001b[0m\u001b[37m\u001b[0m \u001b[1m2s\u001b[0m 3ms/step - loss: 0.1047 - val_loss: 0.1047\n",
            "Epoch 40/50\n",
            "\u001b[1m709/709\u001b[0m \u001b[32m━━━━━━━━━━━━━━━━━━━━\u001b[0m\u001b[37m\u001b[0m \u001b[1m2s\u001b[0m 3ms/step - loss: 0.1046 - val_loss: 0.1047\n",
            "Epoch 41/50\n",
            "\u001b[1m709/709\u001b[0m \u001b[32m━━━━━━━━━━━━━━━━━━━━\u001b[0m\u001b[37m\u001b[0m \u001b[1m2s\u001b[0m 3ms/step - loss: 0.1051 - val_loss: 0.1046\n",
            "Epoch 42/50\n",
            "\u001b[1m709/709\u001b[0m \u001b[32m━━━━━━━━━━━━━━━━━━━━\u001b[0m\u001b[37m\u001b[0m \u001b[1m3s\u001b[0m 4ms/step - loss: 0.1052 - val_loss: 0.1046\n",
            "Epoch 43/50\n",
            "\u001b[1m709/709\u001b[0m \u001b[32m━━━━━━━━━━━━━━━━━━━━\u001b[0m\u001b[37m\u001b[0m \u001b[1m2s\u001b[0m 3ms/step - loss: 0.1050 - val_loss: 0.1047\n",
            "Epoch 44/50\n",
            "\u001b[1m709/709\u001b[0m \u001b[32m━━━━━━━━━━━━━━━━━━━━\u001b[0m\u001b[37m\u001b[0m \u001b[1m2s\u001b[0m 3ms/step - loss: 0.1047 - val_loss: 0.1046\n",
            "Epoch 45/50\n",
            "\u001b[1m709/709\u001b[0m \u001b[32m━━━━━━━━━━━━━━━━━━━━\u001b[0m\u001b[37m\u001b[0m \u001b[1m2s\u001b[0m 3ms/step - loss: 0.1051 - val_loss: 0.1046\n",
            "Epoch 46/50\n",
            "\u001b[1m709/709\u001b[0m \u001b[32m━━━━━━━━━━━━━━━━━━━━\u001b[0m\u001b[37m\u001b[0m \u001b[1m2s\u001b[0m 3ms/step - loss: 0.1052 - val_loss: 0.1046\n",
            "Epoch 47/50\n",
            "\u001b[1m709/709\u001b[0m \u001b[32m━━━━━━━━━━━━━━━━━━━━\u001b[0m\u001b[37m\u001b[0m \u001b[1m2s\u001b[0m 3ms/step - loss: 0.1051 - val_loss: 0.1046\n",
            "Epoch 48/50\n",
            "\u001b[1m709/709\u001b[0m \u001b[32m━━━━━━━━━━━━━━━━━━━━\u001b[0m\u001b[37m\u001b[0m \u001b[1m3s\u001b[0m 4ms/step - loss: 0.1048 - val_loss: 0.1046\n",
            "Epoch 49/50\n",
            "\u001b[1m709/709\u001b[0m \u001b[32m━━━━━━━━━━━━━━━━━━━━\u001b[0m\u001b[37m\u001b[0m \u001b[1m2s\u001b[0m 3ms/step - loss: 0.1048 - val_loss: 0.1046\n",
            "Epoch 50/50\n",
            "\u001b[1m709/709\u001b[0m \u001b[32m━━━━━━━━━━━━━━━━━━━━\u001b[0m\u001b[37m\u001b[0m \u001b[1m2s\u001b[0m 3ms/step - loss: 0.1047 - val_loss: 0.1046\n"
          ]
        }
      ],
      "source": [
        "input_dim = X_train.shape[1]\n",
        "\n",
        "# Definir el modelo\n",
        "input_layer = keras.Input(shape=(input_dim,))\n",
        "\n",
        "# Encoder\n",
        "encoded = layers.Dense(32, activation=\"relu\")(input_layer)\n",
        "encoded = layers.Dense(16, activation=\"relu\")(encoded)\n",
        "bottleneck = layers.Dense(8, activation=\"relu\")(encoded)\n",
        "\n",
        "# Decoder (simétrico)\n",
        "decoded = layers.Dense(16, activation=\"relu\")(bottleneck)\n",
        "decoded = layers.Dense(32, activation=\"relu\")(decoded)\n",
        "output_layer = layers.Dense(input_dim, activation=\"sigmoid\")(decoded)\n",
        "\n",
        "autoencoder = keras.Model(inputs=input_layer, outputs=output_layer)\n",
        "\n",
        "# Compilación con MSE\n",
        "autoencoder.compile(optimizer=\"adam\", loss=\"mse\")\n",
        "\n",
        "# Early stopping\n",
        "early_stop = keras.callbacks.EarlyStopping(\n",
        "    monitor=\"val_loss\", patience=5, restore_best_weights=True\n",
        ")\n",
        "\n",
        "# Entrenamiento\n",
        "history = autoencoder.fit(\n",
        "    X_train,\n",
        "    X_train,  # se entrena a reconstruir la entrada\n",
        "    epochs=50,\n",
        "    batch_size=256,\n",
        "    shuffle=True,\n",
        "    validation_data=(X_val, X_val),\n",
        "    callbacks=[early_stop]\n",
        ")"
      ]
    },
    {
      "cell_type": "markdown",
      "id": "WNKnUkbfgLRH",
      "metadata": {
        "id": "WNKnUkbfgLRH"
      },
      "source": [
        "### Métricas"
      ]
    },
    {
      "cell_type": "code",
      "execution_count": 9,
      "id": "sirgpDA9gIjA",
      "metadata": {
        "colab": {
          "base_uri": "https://localhost:8080/"
        },
        "id": "sirgpDA9gIjA",
        "outputId": "f197441c-488b-4de2-83a9-d14217d76a7f"
      },
      "outputs": [
        {
          "name": "stdout",
          "output_type": "stream",
          "text": [
            "\u001b[1m3632/3632\u001b[0m \u001b[32m━━━━━━━━━━━━━━━━━━━━\u001b[0m\u001b[37m\u001b[0m \u001b[1m7s\u001b[0m 2ms/step\n"
          ]
        }
      ],
      "source": [
        "# Predicciones del autoencoder\n",
        "X_test_pred = autoencoder.predict(X_test)\n",
        "\n",
        "# Error de reconstrucción (MSE fila por fila)\n",
        "reconstruction_errors = np.mean(np.square(X_test - X_test_pred), axis=1)"
      ]
    },
    {
      "cell_type": "code",
      "execution_count": 15,
      "id": "R4A-dATLgU77",
      "metadata": {
        "colab": {
          "base_uri": "https://localhost:8080/",
          "height": 501
        },
        "id": "R4A-dATLgU77",
        "outputId": "bb9f2a08-9086-43a0-8216-a072447a52fc"
      },
      "outputs": [
        {
          "name": "stdout",
          "output_type": "stream",
          "text": [
            "\u001b[1m5666/5666\u001b[0m \u001b[32m━━━━━━━━━━━━━━━━━━━━\u001b[0m\u001b[37m\u001b[0m \u001b[1m8s\u001b[0m 1ms/step\n",
            "[[51587  7956]\n",
            " [53794  2866]]\n"
          ]
        },
        {
          "data": {
            "image/png": "[encoded data removed]",
            "text/plain": [
              "<Figure size 640x480 with 2 Axes>"
            ]
          },
          "metadata": {},
          "output_type": "display_data"
        }
      ],
      "source": [
        "# Calcular umbral (ej: percentil 95 del error en train)\n",
        "train_pred = autoencoder.predict(X_train)\n",
        "train_errors = np.mean(np.square(X_train - train_pred), axis=1)\n",
        "threshold = np.percentile(train_errors, 95)\n",
        "\n",
        "# Predicciones binarias\n",
        "y_pred_binary = (reconstruction_errors > threshold).astype(int)  # 1 = anomalía\n",
        "\n",
        "# Matriz de confusión\n",
        "cm = confusion_matrix(y_test, y_pred_binary)\n",
        "disp = ConfusionMatrixDisplay(confusion_matrix=cm, display_labels=[\"Normal\",\"Anomalía\"])\n",
        "disp.plot(cmap=plt.cm.Blues)\n",
        "plt.show()"
      ]
    },
    {
      "cell_type": "code",
      "execution_count": 11,
      "id": "lzeBNbSdgaDo",
      "metadata": {
        "colab": {
          "base_uri": "https://localhost:8080/",
          "height": 472
        },
        "id": "lzeBNbSdgaDo",
        "outputId": "f45529ed-d8a0-47b7-f8ff-9328ddbdebdf"
      },
      "outputs": [
        {
          "data": {
            "image/png": "[encoded data removed]",
            "text/plain": [
              "<Figure size 640x480 with 1 Axes>"
            ]
          },
          "metadata": {},
          "output_type": "display_data"
        }
      ],
      "source": [
        "fpr, tpr, _ = roc_curve(y_test, reconstruction_errors)\n",
        "roc_auc = roc_auc_score(y_test, reconstruction_errors)\n",
        "\n",
        "plt.plot(fpr, tpr, label=f\"ROC curve (AUC = {roc_auc:.4f})\")\n",
        "plt.plot([0, 1], [0, 1], \"k--\")\n",
        "plt.xlabel(\"False Positive Rate\")\n",
        "plt.ylabel(\"True Positive Rate\")\n",
        "plt.title(\"ROC Curve\")\n",
        "plt.legend()\n",
        "plt.show()"
      ]
    },
    {
      "cell_type": "code",
      "execution_count": 12,
      "id": "rW6yKoP6gice",
      "metadata": {
        "colab": {
          "base_uri": "https://localhost:8080/",
          "height": 472
        },
        "id": "rW6yKoP6gice",
        "outputId": "a41f45f7-315f-4ffc-87a3-5728aefea048"
      },
      "outputs": [
        {
          "data": {
            "image/png": "[encoded data removed]",
            "text/plain": [
              "<Figure size 640x480 with 1 Axes>"
            ]
          },
          "metadata": {},
          "output_type": "display_data"
        }
      ],
      "source": [
        "precision, recall, _ = precision_recall_curve(y_test, reconstruction_errors)\n",
        "pr_auc = average_precision_score(y_test, reconstruction_errors)\n",
        "\n",
        "plt.plot(recall, precision, label=f\"PR curve (AUC = {pr_auc:.4f})\")\n",
        "plt.xlabel(\"Recall\")\n",
        "plt.ylabel(\"Precision\")\n",
        "plt.title(\"Precision-Recall Curve\")\n",
        "plt.legend()\n",
        "plt.show()"
      ]
    },
    {
      "cell_type": "code",
      "execution_count": 13,
      "id": "tcjThIk3gngj",
      "metadata": {
        "colab": {
          "base_uri": "https://localhost:8080/"
        },
        "id": "tcjThIk3gngj",
        "outputId": "9dd5827e-b20c-4064-91e5-e5dd33ccc385"
      },
      "outputs": [
        {
          "name": "stdout",
          "output_type": "stream",
          "text": [
            "F1@umbral: 0.08494116949705106\n"
          ]
        }
      ],
      "source": [
        "f1 = f1_score(y_test, y_pred_binary)\n",
        "print(\"F1@umbral:\", f1)"
      ]
    },
    {
      "cell_type": "code",
      "execution_count": 14,
      "id": "swtKUYD-gqC3",
      "metadata": {
        "colab": {
          "base_uri": "https://localhost:8080/"
        },
        "id": "swtKUYD-gqC3",
        "outputId": "75ff7acf-7e88-4f1a-c639-4507f986b945"
      },
      "outputs": [
        {
          "name": "stdout",
          "output_type": "stream",
          "text": [
            "Precision@10: 0.7000\n",
            "Precision@50: 0.6800\n",
            "Precision@100: 0.3900\n"
          ]
        }
      ],
      "source": [
        "def precision_at_k(y_true, scores, k):\n",
        "    # Ordenar por score (descendente)\n",
        "    idx = np.argsort(scores)[::-1]\n",
        "    top_k = idx[:k]\n",
        "    return np.mean(y_true[top_k])\n",
        "\n",
        "for k in [10, 50, 100]:\n",
        "    print(f\"Precision@{k}: {precision_at_k(y_test, reconstruction_errors, k):.4f}\")"
      ]
    }
  ],
  "metadata": {
    "accelerator": "GPU",
    "colab": {
      "gpuType": "T4",
      "provenance": []
    },
    "kernelspec": {
      "display_name": "Python 3",
      "name": "python3"
    },
    "language_info": {
      "codemirror_mode": {
        "name": "ipython",
        "version": 3
      },
      "file_extension": ".py",
      "mimetype": "text/x-python",
      "name": "python",
      "nbconvert_exporter": "python",
      "pygments_lexer": "ipython3",
      "version": "3.12.5"
    }
  },
  "nbformat": 4,
  "nbformat_minor": 5
}
